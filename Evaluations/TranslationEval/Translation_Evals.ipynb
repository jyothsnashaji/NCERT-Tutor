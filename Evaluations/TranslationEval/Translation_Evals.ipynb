{
 "cells": [
  {
   "cell_type": "markdown",
   "id": "3ec9d857",
   "metadata": {},
   "source": [
    "# Evaluation for Translation Models"
   ]
  },
  {
   "cell_type": "markdown",
   "id": "927aafe9",
   "metadata": {},
   "source": [
    "## DataSet\n",
    "\n",
    "1. Hindi to English Translation Benchmark Dataset\n",
    "2. Tamil to English Translation Benchmark Dataset\n",
    "3. English to Kannada Translation Benchmark Dataset\n",
    "4. Malayalam to English Translation Benchmark Dataset\n",
    "\n",
    "Size : 1997 Entries\n",
    "\n",
    "Sample size used for this evaluation : 200 / 1997\n",
    "\n",
    "Source organisation:  Digital India BHASHINI Division\n",
    "\n",
    "Site: https://aikosh.indiaai.gov.in/web/datasets/ \n",
    "\n",
    "License : CC BY-SA 4.0\n",
    "\n",
    "About Datasets: \n",
    "The datasets provides news test references for Machine Translation (MT) evaluation, focusing on translations from Indian languages to English. \n",
    "As part of a comprehensive collection supporting translations into 128 target languages, this dataset includes document-level information, making it a valuable resource for multilingual MT benchmarking. Designed for the news domain, it facilitates the evaluation of translation quality and supports the development of robust translation systems. Submitted by Microsoft, this dataset is essential for researchers and developers working on translation tasks."
   ]
  },
  {
   "cell_type": "markdown",
   "id": "1f04c1f3",
   "metadata": {},
   "source": [
    "## Evaluation Models\n",
    "\n",
    "3 Models are considered for this comparison \n",
    "\n",
    "1. llama3-8b-8192\n",
    "2. gpt-4o-mini\n",
    "3. Sarvam\n",
    "\n"
   ]
  },
  {
   "cell_type": "markdown",
   "id": "f4ee1557",
   "metadata": {},
   "source": [
    "## Evaluation Methods\n",
    "\n",
    "We used three evaluation methods to compare the translated output from the models to the reference output:\n",
    "\n",
    "1. **BLEU Score**\n",
    "2. **METEOR Score**\n",
    "3. **ROUGE Scores**\n",
    "\n",
    "---\n",
    "\n",
    "### BLEU\n",
    "\n",
    "**BLEU** (Bilingual Evaluation Understudy) is an automatic metric for evaluating the quality of machine translations by comparing them to one or more human-generated reference translations based on overlapping n-grams.\n",
    "\n",
    "- **How it works:**  \n",
    "    BLEU calculates n-gram precision (matching n-grams between the candidate and reference) and applies a brevity penalty to discourage overly short translations. The final score is the geometric mean of n-gram precisions, weighted by their order (e.g., unigrams, bigrams).\n",
    "\n",
    "- **Score Range:**  \n",
    "    BLEU scores range from 0 to 1 (often shown as percentages, e.g., 0.4 → 40%), where higher scores indicate better translation quality.\n",
    "\n",
    "- **Limitations:**  \n",
    "    BLEU does not account for synonyms, fluency, or contextual meaning and works best for evaluating longer texts. Human evaluation is often needed alongside BLEU to capture translation quality nuances.\n",
    "\n",
    "---\n",
    "\n",
    "### METEOR\n",
    "\n",
    "**METEOR** (Metric for Evaluation of Translation with Explicit ORdering) is a machine translation evaluation metric that measures the similarity between a candidate translation and reference translations, considering word matches, synonyms, stemming, and paraphrasing.\n",
    "\n",
    "- **How it works:**  \n",
    "    METEOR aligns words between the candidate and reference translations using exact matches, stemmed matches, and synonyms. It calculates precision, recall, and a harmonic mean (F-score), while incorporating a penalty for word order differences.\n",
    "\n",
    "- **Score Range:**  \n",
    "    METEOR scores range from 0 to 1, where 1 indicates a perfect match. Higher scores suggest better alignment and quality.\n",
    "\n",
    "- **Limitations:**  \n",
    "    METEOR is more computationally complex than BLEU and may struggle with longer texts. It also relies on external linguistic resources (e.g., WordNet for synonyms), which may not always cover all languages effectively.\n",
    "\n",
    "---\n",
    "\n",
    "### ROUGE\n",
    "\n",
    "**ROUGE** (Recall-Oriented Understudy for Gisting Evaluation) is a family of metrics used to evaluate the quality of summaries or translations by comparing overlapping units such as n-grams, word sequences, or sentence-level matches with reference texts.\n",
    "\n",
    "- **How it works:**  \n",
    "    ROUGE calculates recall, precision, and F-scores for n-gram matches (e.g., ROUGE-N), longest common subsequence (ROUGE-L), or skip-grams. It measures how much content from the reference is captured by the candidate.\n",
    "\n",
    "- **Score Range:**  \n",
    "    ROUGE scores range from 0 to 1, where higher values indicate better overlap between the candidate and reference text.\n",
    "\n",
    "- **Limitations:**  \n",
    "    ROUGE emphasizes surface-level similarity and does not account for linguistic variation (e.g., synonyms, paraphrasing). It is less suitable for evaluating fluency, coherence, or readability in translations or summaries.\n",
    "\n",
    "---\n",
    "\n",
    "> **Summary Table**\n",
    "\n",
    "| Metric  | Measures                | Range   | Strengths                                 | Limitations                                 |\n",
    "|---------|-------------------------|---------|-------------------------------------------|---------------------------------------------|\n",
    "| BLEU    | n-gram precision        | 0–1     | Fast, widely used, good for longer texts  | Ignores synonyms/context, brevity penalty   |\n",
    "| METEOR  | Precision, recall, F1   | 0–1     | Considers synonyms, stemming, word order  | Slower, needs linguistic resources          |\n",
    "| ROUGE   | Recall, precision, F1   | 0–1     | Good for content overlap, summaries       | Surface-level, ignores fluency/meaning      |"
   ]
  },
  {
   "cell_type": "markdown",
   "id": "e2750cfe",
   "metadata": {},
   "source": [
    "#### Load Data"
   ]
  },
  {
   "cell_type": "code",
   "execution_count": 1,
   "id": "198f50ae",
   "metadata": {},
   "outputs": [
    {
     "name": "stdout",
     "output_type": "stream",
     "text": [
      "\n",
      "english_malayalam.json (showing 10 entries):\n",
      "{'sourceText': \"Welsh AMs are worried about 'looking like muppets'\", 'targetText': \"'വിഡ്ഡികളെപ്പോലെ ഇരിക്കുന്നതിനെ' കുറിച്ച് വെൽഷ് അസംബ്ലി അംഗങ്ങൾക്ക് ആകുലത\"}\n",
      "{'sourceText': 'There is consternation among some AMs at a suggestion that their title should change to MWPs (Member of the Welsh Parliament).', 'targetText': \"തങ്ങളുടെ പദവിപ്പേര് 'എം\\u200cഡബ്ലിയൂപികൾ' (വെൽഷ് പാർലിമെന്റിലെ അംഗം) എന്ന് മാറ്റണമെന്ന നിർദ്ദേശത്തിൽ ചില അസംബ്ലി അംഗങ്ങൾക്ക് ഇടയിൽ പരിഭ്രാന്തിയുണ്ട്.\"}\n",
      "{'sourceText': 'It has arisen because of the plans to change the name of the assembly to the Welsh Parliament.', 'targetText': 'അസംബ്ലിയുടെ പേര്, വെൽഷ് പാർലിമെന്റ് എന്നായി പുനർനാമകരണം ചെയ്യുന്നതിനുള്ള പദ്ധതി ഉള്ളതിനാലാണ് ഈ നിർദ്ദേശം ഉയർന്നുവന്നത്.'}\n",
      "{'sourceText': 'AMs across the political spectrum are worried it could invite ridicule.', 'targetText': 'ഈ നീക്കം പരിഹാസം ക്ഷണിച്ചുവരുത്തുമെന്ന് വിവിധ രാഷ്ട്രീയപ്പാർട്ടികളിൽ ഉടനീളമുള്ള അസംബ്ലി അംഗങ്ങൾ ആകുലപ്പെടുന്നു.'}\n",
      "{'sourceText': 'One Labour AM said his group was concerned “it rhymes with Twp and Pwp.”', 'targetText': '\"ഈ പേരിന് ടിഡബ്ലിയുപിയുമായും പിഡബ്ലിയുപിയുമായും ഉച്ചാരണ സാമ്യതയുണ്ടെന്ന്\" തന്റെ പാർട്ടി ആശങ്കപ്പെടുന്നതായി ലേബർ പാർട്ടിയിൽ നിന്നുള്ള ഒരു അസംബ്ലി അംഗം പറഞ്ഞു.'}\n",
      "{'sourceText': 'For readers outside of Wales: In Welsh twp means daft and pwp means poo.', 'targetText': \"വെയിൽസിന് പുറത്തുള്ള വായനക്കാരുടെ അറിവിലേക്ക്: വെൽഷിൽ 'ടിഡബ്ലിയുപി' എന്നാൽ മന്ദബുദ്ധി എന്നും പിഡബ്ലിയുപി എന്നാൽ മലം എന്നുമാണ് അർത്ഥം.\"}\n",
      "{'sourceText': 'A Plaid AM said the group as a whole was ‘not happy’ and has suggested alternatives.', 'targetText': 'തന്റെ ഗ്രൂപ്പ് മൊത്തത്തിൽ \"സന്തോഷത്തിൽ അല്ലെന്നും\" അവർ മറ്റ് പേരുകൾ നിർദ്ദേശിച്ചുവെന്നും ഒരു പ്ലെയ്\\u200cഡ് പിഎം പറയുകയുണ്ടായി.'}\n",
      "{'sourceText': 'A Welsh Conservative said his group was ‘open-minded’ about the name change, but noted it was a short verbal hop from MWP to Muppet.', 'targetText': 'പേരുമാറ്റവുമായി ബന്ധപ്പെട്ട് തന്റെ ഗ്രൂപ്പിന് \"തുറന്ന മനസ്സ്\" ആണുള്ളതെന്നും, എന്നാൽ എം\\u200cഡബ്ലിയൂപിയിൽ നിന്ന് മപ്പറ്റ് എന്ന വാക്കിലേക്കുള്ളത് ഹ്രസ്വമായൊരു പദസംബന്ധിയായ ചാട്ടം ആണെന്ന് അഭിപ്രായപ്പെടുകയും ചെയ്തു.'}\n",
      "{'sourceText': 'In this context, the Welsh letter w is pronounced similarly to the Yorkshire English pronunciation of the letter u.', 'targetText': 'ഈ സന്ദർഭത്തിൽ, ഡബ്ലിയൂ എന്ന വെൽഷ് അക്ഷരത്തിന്റെ ഉച്ചാരണം യു എന്ന അക്ഷരത്തിന്റെ യോർക്ക്\\u200cഷെയർ ഇംഗ്ലീഷ് ഉച്ചാരണത്തിന് സമാനമാണ്.'}\n",
      "{'sourceText': 'The Assembly Commission, which is currently drafting legislation to introduce the name changes, said: ‘The final decision on any descriptors of what Assembly Members are called will, of course, be a matter for the members themselves.’', 'targetText': 'പേരുമാറ്റം കൊണ്ടുവരാനുള്ള നിയമത്തിഉന്റെ കരട് നിലവിൽ തയ്യാറാക്കിക്കൊണ്ടിരിക്കുന്ന അസംബ്ലി കമ്മീഷൻ ഇങ്ങനെ പറഞ്ഞു: \"അസംബ്ലി അംഗങ്ങളെ എന്ത് വിളിക്കണമെന്നതിന്റെ വിവരണപദവുമായി ബന്ധപ്പെട്ട അന്തിമ തീരുമാനം തീർച്ചയായും അംഗങ്ങൾക്കിടയിൽ ചർച്ച ചെയ്യപ്പെടും.\"'}\n",
      "english_malayalam.json: 1997 samples\n",
      "\n",
      "english_kannada.json (showing 10 entries):\n",
      "{'sourceText': \"Welsh AMs are worried about 'looking like muppets'\", 'targetText': \"ವೆಲ್ಶ್ AMಗಳು 'ಮೂರ್ಖರಂತೆ ಕಾಣುವ' ಬಗ್ಗೆ ಚಿಂತಿತರಾಗಿದ್ದಾರೆ'\"}\n",
      "{'sourceText': 'There is consternation among some AMs at a suggestion that their title should change to MWPs (Member of the Welsh Parliament).', 'targetText': 'ಕೆಲವು AMಗಳು ತಮ್ಮ ಬಿರುದುಗಳನ್ನು MWPಗಳಾಗಿ (ಮೆಂಬರ್\\u200d ಆಫ್ ವೆಲ್ಶ್ ಪಾರ್ಲಿಮೆಂಟ್) ಬದಲಾಯಿಸುವ ಸಲಹೆಯ ಬಗ್ಗೆ ಆತಂಕ ಹೊಂದಿದ್ದಾರೆ.'}\n",
      "{'sourceText': 'It has arisen because of the plans to change the name of the assembly to the Welsh Parliament.', 'targetText': 'ಅಸೆಂಬ್ಲಿಯ ಹೆಸರನ್ನು ವೆಲ್ಶ್ ಪಾರ್ಲಿಮೆಂಟ್ ಎಂದು ಬದಲಾಯಿಸುವ ಯೋಜನೆಗಳಿಂದಾಗಿ ಈ ಸಮಸ್ಯೆ ಉದ್ಭವಿಸಿದೆ.'}\n",
      "{'sourceText': 'AMs across the political spectrum are worried it could invite ridicule.', 'targetText': 'ಈ ನಿರ್ಧಾರವು ಅಪಹಾಸ್ಯಕ್ಕೀಡು ಮಾಡಬಹುದು ಎಂದು ರಾಜಕೀಯ ಕ್ಷೇತ್ರದಾದ್ಯಂತ AMಗಳು ಚಿಂತೆ ವ್ಯಕ್ತಪಡಿಸಿದ್ದಾರೆ.'}\n",
      "{'sourceText': 'One Labour AM said his group was concerned “it rhymes with Twp and Pwp.”', 'targetText': '\"ಅದು Twp ಮತ್ತು Pwp ಜೊತೆ ಪ್ರಾಸವಾಗುತ್ತದೆ\" ಎಂಬುದು ತಮ್ಮ ಸಮೂಹದಲ್ಲಿ ಕಳವಳ ಉಂಟುಮಾಡಿದೆ ಎಂದು ಒಬ್ಬ ಲೇಬರ್\\u200d AM ಹೇಳಿದರು.'}\n",
      "{'sourceText': 'For readers outside of Wales: In Welsh twp means daft and pwp means poo.', 'targetText': 'ವೇಲ್ಸ್ ಹೊರಗಿರುವ ಓದುಗರಿಗಾಗಿ: ವೆಲ್ಶ್ ಭಾಷೆಯಲ್ಲಿ twp ಎಂದರೆ ಅವಿವೇಕ ಮತ್ತು pwp ಎಂದರೆ ಮಲ ಎಂದಾಗುತ್ತದೆ.'}\n",
      "{'sourceText': 'A Plaid AM said the group as a whole was ‘not happy’ and has suggested alternatives.', 'targetText': 'ಒಬ್ಬ ಪ್ಲೇಡ್ AM ಹೇಳುವಂತೆ ಸಮೂಹವು \"ಅಸಂತುಷ್ಟ\"ವಾಗಿದ್ದು ಪರ್ಯಾಯ ಹೆಸರುಗಳನ್ನು ಸೂಚಿಸಿದೆ.'}\n",
      "{'sourceText': 'A Welsh Conservative said his group was ‘open-minded’ about the name change, but noted it was a short verbal hop from MWP to Muppet.', 'targetText': 'ತಮ್ಮ ಸಮೂಹವು ಹೆಸರು ಬದಲಾಯಿಸುವ ಬಗ್ಗೆ \"ಮುಕ್ತ ಮನಸ್ಸನ್ನು\" ಹೊಂದಿರುವುದಾಗಿ ಒಬ್ಬ ವೆಲ್ಶ್ ಕನ್ಸರ್ವೇಟಿವ್ ಹೇಳಿದರು, ಆದರೆ ಅದು ಕೇವಲ MWP ಯಿಂದ ಮಪೆಟ್ ಅಥವಾ ಮೂರ್ಖ ಎಂಬುದರ ಇನ್ನೊಂದು ರೂಪ ಎಂದೂ ಹೇಳಿದರು.'}\n",
      "{'sourceText': 'In this context, the Welsh letter w is pronounced similarly to the Yorkshire English pronunciation of the letter u.', 'targetText': 'ಈ ಸಂದರ್ಭದಲ್ಲಿ, ಯಾರ್ಕ್\\u200cಶೈರ್\\u200d ಇಂಗ್ಲಿಷ್ ನಲ್ಲಿ u ಉಚ್ಚರಿಸುವಂತೆಯೇ ವೆಲ್ಶ್ ಅಕ್ಷರ w ಅನ್ನು ಉಚ್ಚರಿಸುತ್ತಾರೆ.'}\n",
      "{'sourceText': 'The Assembly Commission, which is currently drafting legislation to introduce the name changes, said: ‘The final decision on any descriptors of what Assembly Members are called will, of course, be a matter for the members themselves.’', 'targetText': 'ಪ್ರಸ್ತುತ ಹೆಸರುಗಳನ್ನು ಬದಲಾಯಿಸುವ ಶಾಸನವನ್ನು ಸಿದ್ಧಪಡಿಸುತ್ತಿರುವ ಅಸೆಂಬ್ಲಿ ಕಮಿಷನ್ ಹೀಗೆ ಹೇಳಿದೆ: \"ಸಭೆಯ ಸದಸ್ಯರನ್ನು ಏನೆಂದು ಕರೆಯಬೇಕು ಎಂಬುದರ ಬಗ್ಗೆ ಇರುವ ವಿವರಕಗಳನ್ನು ಕುರಿತು ಸದಸ್ಯರೇ ಅಂತಿಮ ನಿರ್ಧಾರ ತೆಗೆದುಕೊಳ್ಳಬೇಕಾಗುತ್ತದೆ.\"'}\n",
      "english_kannada.json: 1997 samples\n",
      "\n",
      "tamil_english.json (showing 10 entries):\n",
      "{'sourceText': \"வெல்ஷ் AMகள் 'முட்டாள்கள் போல் இருப்பதைக்' குறித்து கவலையடைந்தனர்\", 'targetText': \"Welsh AMs are worried about 'looking like muppets'\"}\n",
      "{'sourceText': 'MWPகள் (வெல்ஷ் பாராளுமன்ற உறுப்பினர்கள்) என தங்கள் தலைப்பு மாற்றப்பட வேண்டும் என்று சில AMகளின் மத்தியில் ஒரு குழப்பம் உள்ளது.', 'targetText': 'There is consternation among some AMs at a suggestion that their title should change to MWPs (Member of the Welsh Parliament).'}\n",
      "{'sourceText': 'சட்டசபையின் பெயரை வெல்ஷ் நாடாளுமன்றம் என மாற்றும் திட்டங்களின் காரணமாக இது எழுந்துள்ளது.', 'targetText': 'It has arisen because of the plans to change the name of the assembly to the Welsh Parliament.'}\n",
      "{'sourceText': 'அரசியல் களங்கள் முழுவதும் உள்ள AMகள் இது ஏளனமாக அழைக்கக்கூடும் என்று கவலைப்பட்டனர்.', 'targetText': 'AMs across the political spectrum are worried it could invite ridicule.'}\n",
      "{'sourceText': 'ஒரு லேபர் AM இது \"Twp மற்றும் Pwp உடன் இயைந்தொலிக்கிறது\" என்று தனது குழு கவலைப்படுவதாகக் கூறினார்.', 'targetText': 'One Labour AM said his group was concerned “it rhymes with Twp and Pwp.”'}\n",
      "{'sourceText': 'வேல்ஸில் இல்லாத வாசகர்களுக்கு: வெல்ஷ் மொழியில் twp என்றால் முட்டாள் என்றும் pwp என்றால் மலம் என்றும் பொருள்.', 'targetText': 'For readers outside of Wales: In Welsh twp means daft and pwp means poo.'}\n",
      "{'sourceText': 'ஒட்டுமொத்தக் குழுவும் \"மகிழ்ச்சியாக இல்லை\" என்றும் மாற்று வழிகளைப் பரிந்துரைத்ததாகவும் ஒரு பிளேய்ட் AM தெரிவித்தார்.', 'targetText': 'A Plaid AM said the group as a whole was ‘not happy’ and has suggested alternatives.'}\n",
      "{'sourceText': 'ஒரு வெல்ஷ் கன்சர்வேடிவ் தனது குழுவானது பெயர் மாற்றம் குறித்து \"திறந்த மனதுடன்\" இருப்பதாகவும், ஆனால் இது MWP- இலிருந்து மப்பெட்க்கு ஒரு சிறிய வாய்மொழி சிக்கல் இருப்பதாக தெரிவித்தார்.', 'targetText': 'A Welsh Conservative said his group was ‘open-minded’ about the name change, but noted it was a short verbal hop from MWP to Muppet.'}\n",
      "{'sourceText': 'இந்தச் சூழலில் வெல்ஷ் எழுத்து W, யார்க்\\u200cஷயர் ஆங்கில உச்சரிப்புக்கு எழுத்து போல உச்சரிக்கப்படுகிறது.', 'targetText': 'In this context, the Welsh letter w is pronounced similarly to the Yorkshire English pronunciation of the letter u.'}\n",
      "{'sourceText': 'பெயர் மாற்றங்களை அறிமுகப்படுத்த தற்போது சட்டத்தை உருவாக்கி வரும் சட்டமன்ற ஆணையம் கூறியது: எந்த ஒரு விளக்கத்தின் இறுதி முடிவிலும் சட்டமன்ற உறுப்பினர்கள் எவ்வாறு அழைக்கப்படுகிறார்கள் என்பது நிச்சயமாக உறுப்பினர்களுக்கு தங்களின் விஷயமாக இருக்கும்.', 'targetText': 'The Assembly Commission, which is currently drafting legislation to introduce the name changes, said: ‘The final decision on any descriptors of what Assembly Members are called will, of course, be a matter for the members themselves.’'}\n",
      "tamil_english.json: 1997 samples\n",
      "\n",
      "hindi_english.json (showing 10 entries):\n",
      "{'sourceText': \"वेल्श के AM (विधानसभा सदस्य) 'मपेट जैसी छवियों’ से चिंतित हैं\", 'targetText': \"Welsh AMs are worried about 'looking like muppets'\"}\n",
      "{'sourceText': 'विधानसभा के कुछ सदस्यों के बीच इस सुझाव पर अड़चन है कि उनके पद का शीर्षक बदलकर MWP (वेल्श के सांसद) किया जाना चाहिए।', 'targetText': 'There is consternation among some AMs at a suggestion that their title should change to MWPs (Member of the Welsh Parliament).'}\n",
      "{'sourceText': 'ऐसा होने की वजह यह है कि विधानसभा के नाम को बदलकर वेल्श संसद करने की योजना बनाई गई है।', 'targetText': 'It has arisen because of the plans to change the name of the assembly to the Welsh Parliament.'}\n",
      "{'sourceText': 'राजनीति के दायरे से जुड़े सभी AM को इस बात की चिंता है कि इससे उनका मजाक उड़ाया जा सकता है।', 'targetText': 'AMs across the political spectrum are worried it could invite ridicule.'}\n",
      "{'sourceText': 'एक लेबर AM ने कहा कि “इसे Twp और Pwp से न जोड़ा जाए” इस बात को लेकर उसका समूह चिंतित था।', 'targetText': 'One Labour AM said his group was concerned “it rhymes with Twp and Pwp.”'}\n",
      "{'sourceText': 'वेल्स से बाहर रहने वाले पाठकों के लिए: वेल्श में, twp का मतलब बेवकूफ़ और pwp का मतलब गंदगी होता है।', 'targetText': 'For readers outside of Wales: In Welsh twp means daft and pwp means poo.'}\n",
      "{'sourceText': 'एक प्लेड एएम ने कहा पूरा समूह \"खुश नहीं\" था और उसने दूसरे विकल्पों का सुझाव दिया है।', 'targetText': 'A Plaid AM said the group as a whole was ‘not happy’ and has suggested alternatives.'}\n",
      "{'sourceText': 'वेल्श के एक राजनीतिक दल ने कहा कि नाम के बदलाव को लेकर उसका समूह \"स्वतंत्र विचार वाला\" था, लेकिन उसने इस बात पर ध्यान दिया कि शब्दों में मौखिक रूप से छोटा सा बदलाव करके MWP को मपेट किया जा सकता था।', 'targetText': 'A Welsh Conservative said his group was ‘open-minded’ about the name change, but noted it was a short verbal hop from MWP to Muppet.'}\n",
      "{'sourceText': 'इस संदर्भ में, वेल्श में अक्षर w का उच्चारण ठीक वैसे किया जाता है जैसा कि यॉर्कशायर अंग्रेज़ी उच्चारण में अक्षर u का किया जाता है।', 'targetText': 'In this context, the Welsh letter w is pronounced similarly to the Yorkshire English pronunciation of the letter u.'}\n",
      "{'sourceText': 'नाम में बदलाव को लेकर वर्तमान में कानूनी मसौदा तैयार करने वाले विधानसभा आयोग ने कहा: “विधानसभा के सदस्यों को क्या कह कर पुकारा जाता है, इस संबंध में किसी भी विवरणकर्ता का आखिरी फ़ैसला निश्चित रूप से सदस्यों के लिए उनका खुद एक मामला होगा।\"', 'targetText': 'The Assembly Commission, which is currently drafting legislation to introduce the name changes, said: ‘The final decision on any descriptors of what Assembly Members are called will, of course, be a matter for the members themselves.’'}\n",
      "hindi_english.json: 1997 samples\n"
     ]
    }
   ],
   "source": [
    "import json\n",
    "import os\n",
    "\n",
    "# Define the paths to the JSON files\n",
    "dataset_dir = \"Datasets/AIKOSH_Dataset\"\n",
    "json_files = [\n",
    "    \"english_malayalam.json\",\n",
    "    \"english_kannada.json\",\n",
    "    \"tamil_english.json\",\n",
    "    \"hindi_english.json\"\n",
    "]\n",
    "\n",
    "# Read and store the data from each JSON file\n",
    "datasets = {}\n",
    "for filename in json_files:\n",
    "    path = os.path.join(dataset_dir, filename)\n",
    "    with open(path, 'r', encoding='utf-8') as f:\n",
    "        datasets[filename] = json.load(f)\n",
    "\n",
    "# Example: print the number of samples in each dataset\n",
    "\n",
    "for name, data in datasets.items():\n",
    "    print(f\"\\n{name} (showing 10 entries):\")\n",
    "    for entry in data[:10]:\n",
    "        print(entry)\n",
    "    print(f\"{name}: {len(data)} samples\")"
   ]
  },
  {
   "cell_type": "code",
   "execution_count": 2,
   "id": "d41048ce",
   "metadata": {
    "vscode": {
     "languageId": "ruby"
    }
   },
   "outputs": [
    {
     "name": "stdout",
     "output_type": "stream",
     "text": [
      "Total English sentences: 1997\n",
      "Total Malayalam sentences: 1997\n",
      "Total Kannada sentences: 1997\n",
      "Total Tamil sentences: 1997\n",
      "Total Hindi sentences: 1997\n"
     ]
    }
   ],
   "source": [
    "# Create lists to store sentences\n",
    "malayalam_sentences = []\n",
    "kannada_sentences = []\n",
    "tamil_sentences = []\n",
    "hindi_sentences = []\n",
    "english_sentences = []\n",
    "\n",
    "# Track already added English sentences\n",
    "english_seen = set()\n",
    "\n",
    "for file in json_files:\n",
    "    data = datasets[file]\n",
    "    src_lang, tgt_lang = file.replace('.json', '').split('_')\n",
    "    for entry in data:\n",
    "        # English to Malayalam\n",
    "        if file == \"english_malayalam.json\":\n",
    "            if entry['sourceText'] not in english_seen:\n",
    "                english_sentences.append(entry['sourceText'])\n",
    "                english_seen.add(entry['sourceText'])\n",
    "            malayalam_sentences.append(entry['targetText'])\n",
    "        # English to Kannada\n",
    "        elif file == \"english_kannada.json\":\n",
    "            if entry['sourceText'] not in english_seen:\n",
    "                english_sentences.append(entry['sourceText'])\n",
    "                english_seen.add(entry['sourceText'])\n",
    "            kannada_sentences.append(entry['targetText'])\n",
    "        # Tamil to English\n",
    "        elif file == \"tamil_english.json\":\n",
    "            tamil_sentences.append(entry['sourceText'])\n",
    "            if entry['targetText'] not in english_seen:\n",
    "                english_sentences.append(entry['targetText'])\n",
    "                english_seen.add(entry['targetText'])\n",
    "        # Hindi to English\n",
    "        elif file == \"hindi_english.json\":\n",
    "            hindi_sentences.append(entry['sourceText'])\n",
    "            if entry['targetText'] not in english_seen:\n",
    "                english_sentences.append(entry['targetText'])\n",
    "                english_seen.add(entry['targetText'])\n",
    "\n",
    "print(f\"Total English sentences: {len(english_sentences)}\")\n",
    "print(f\"Total Malayalam sentences: {len(malayalam_sentences)}\")\n",
    "print(f\"Total Kannada sentences: {len(kannada_sentences)}\")\n",
    "print(f\"Total Tamil sentences: {len(tamil_sentences)}\")\n",
    "print(f\"Total Hindi sentences: {len(hindi_sentences)}\")"
   ]
  },
  {
   "cell_type": "code",
   "execution_count": 3,
   "id": "b8dbffb9",
   "metadata": {},
   "outputs": [
    {
     "name": "stdout",
     "output_type": "stream",
     "text": [
      "English: Welsh AMs are worried about 'looking like muppets'\n",
      "Hindi: वेल्श के AM (विधानसभा सदस्य) 'मपेट जैसी छवियों’ से चिंतित हैं\n",
      "Malayalam: 'വിഡ്ഡികളെപ്പോലെ ഇരിക്കുന്നതിനെ' കുറിച്ച് വെൽഷ് അസംബ്ലി അംഗങ്ങൾക്ക് ആകുലത\n",
      "Tamil: வெல்ஷ் AMகள் 'முட்டாள்கள் போல் இருப்பதைக்' குறித்து கவலையடைந்தனர்\n",
      "Kannada: ವೆಲ್ಶ್ AMಗಳು 'ಮೂರ್ಖರಂತೆ ಕಾಣುವ' ಬಗ್ಗೆ ಚಿಂತಿತರಾಗಿದ್ದಾರೆ'\n",
      "\n",
      "English: There is consternation among some AMs at a suggestion that their title should change to MWPs (Member of the Welsh Parliament).\n",
      "Hindi: विधानसभा के कुछ सदस्यों के बीच इस सुझाव पर अड़चन है कि उनके पद का शीर्षक बदलकर MWP (वेल्श के सांसद) किया जाना चाहिए।\n",
      "Malayalam: തങ്ങളുടെ പദവിപ്പേര് 'എം‌ഡബ്ലിയൂപികൾ' (വെൽഷ് പാർലിമെന്റിലെ അംഗം) എന്ന് മാറ്റണമെന്ന നിർദ്ദേശത്തിൽ ചില അസംബ്ലി അംഗങ്ങൾക്ക് ഇടയിൽ പരിഭ്രാന്തിയുണ്ട്.\n",
      "Tamil: MWPகள் (வெல்ஷ் பாராளுமன்ற உறுப்பினர்கள்) என தங்கள் தலைப்பு மாற்றப்பட வேண்டும் என்று சில AMகளின் மத்தியில் ஒரு குழப்பம் உள்ளது.\n",
      "Kannada: ಕೆಲವು AMಗಳು ತಮ್ಮ ಬಿರುದುಗಳನ್ನು MWPಗಳಾಗಿ (ಮೆಂಬರ್‍ ಆಫ್ ವೆಲ್ಶ್ ಪಾರ್ಲಿಮೆಂಟ್) ಬದಲಾಯಿಸುವ ಸಲಹೆಯ ಬಗ್ಗೆ ಆತಂಕ ಹೊಂದಿದ್ದಾರೆ.\n",
      "\n",
      "English: It has arisen because of the plans to change the name of the assembly to the Welsh Parliament.\n",
      "Hindi: ऐसा होने की वजह यह है कि विधानसभा के नाम को बदलकर वेल्श संसद करने की योजना बनाई गई है।\n",
      "Malayalam: അസംബ്ലിയുടെ പേര്, വെൽഷ് പാർലിമെന്റ് എന്നായി പുനർനാമകരണം ചെയ്യുന്നതിനുള്ള പദ്ധതി ഉള്ളതിനാലാണ് ഈ നിർദ്ദേശം ഉയർന്നുവന്നത്.\n",
      "Tamil: சட்டசபையின் பெயரை வெல்ஷ் நாடாளுமன்றம் என மாற்றும் திட்டங்களின் காரணமாக இது எழுந்துள்ளது.\n",
      "Kannada: ಅಸೆಂಬ್ಲಿಯ ಹೆಸರನ್ನು ವೆಲ್ಶ್ ಪಾರ್ಲಿಮೆಂಟ್ ಎಂದು ಬದಲಾಯಿಸುವ ಯೋಜನೆಗಳಿಂದಾಗಿ ಈ ಸಮಸ್ಯೆ ಉದ್ಭವಿಸಿದೆ.\n",
      "\n"
     ]
    }
   ],
   "source": [
    "for i in range(3):\n",
    "    print(f\"English: {english_sentences[i]}\")\n",
    "    print(f\"Hindi: {hindi_sentences[i]}\")\n",
    "    print(f\"Malayalam: {malayalam_sentences[i]}\")\n",
    "    print(f\"Tamil: {tamil_sentences[i]}\")\n",
    "    print(f\"Kannada: {kannada_sentences[i]}\\n\")"
   ]
  },
  {
   "cell_type": "markdown",
   "id": "855e4f61",
   "metadata": {},
   "source": [
    "### Evaluate with Llama Model"
   ]
  },
  {
   "cell_type": "code",
   "execution_count": 4,
   "id": "ed53824b",
   "metadata": {},
   "outputs": [],
   "source": [
    "### Load Model \n",
    "import groq\n",
    "from langchain_groq import ChatGroq\n",
    "\n",
    "groq_api_key = os.getenv(\"GROQ_API_KEY\")\n",
    "if not groq_api_key:\n",
    "    raise ValueError(\"Please set the GROQ_API_KEY environment variable.\")\n",
    "\n",
    "# Setup re-ranking\n",
    "llm = ChatGroq(\n",
    "    groq_api_key=groq_api_key,\n",
    "    model=\"llama3-8b-8192\"\n",
    ")"
   ]
  },
  {
   "cell_type": "code",
   "execution_count": 5,
   "id": "a526282e",
   "metadata": {},
   "outputs": [
    {
     "name": "stdout",
     "output_type": "stream",
     "text": [
      "\n",
      "Llama Translations (showing 3 entries):\n",
      "English: Welsh AMs are worried about 'looking like muppets'\n",
      "Malayalam: വെൽഷ് എം എസ് മുപ്പെറ്റുകളായിരിക്കുന്നതിൽ പ്രകോപനം പരിപാലിക്കുന്നു\n",
      "Hindi: वेल्श एमएस को मúpपेट्स के तरह दिखने की चिंता है\n",
      "Tamil: வேல்ஸ் பிரதிநிதிகள் மூப்பெட்டுக் கண்டுகொள்ள நேரடி பயம்.\n",
      "Kannada: ವೇಲ್ಸ್‌ನ ಎಂಎಮ್‌ಗಳು ಮ್ಯೂಪೆಟ್ಸ್ ಎಂಬ ಭಾವನೆಗೆ ಕಂಪಿಸುತ್ತಿದ್ದಾರೆ.\n",
      "\n",
      "English: There is consternation among some AMs at a suggestion that their title should change to MWPs (Member of the Welsh Parliament).\n",
      "Malayalam: കൊയിലെ പാര്‍ളമാന്‍മാരില്‍ ചിലരില്‍ ഒരു സൂചനത്തിനെതിരെ സംശയവും സംശയവും ഉണ്ടായിരിക്കുന്നു, അവരുടെ പദവിയുടെ പേര്‍ എംഡിഡിപിയില്‍ (Welsh Parliament അംഗം) മാറ്റപ്പെടുന്നു.\n",
      "Hindi: कुछ एमएस के बीच की है कि उनका नाम एमडब्ल्यूपीएस (वेल्श संसद के सदस्य) में बदल दिया जाना चाहिए।\n",
      "Tamil: சில ஏஎம்களில் ஒரு பரிந்துரைக்கு எதிராக அதிர்ச்சி உள்ளது. அவர்களின் பட்டத்தை எம்யூபிபியில் (வேல்ஸ் சட்டமன்ற உறுப்பினர்) மாற்றவேண்டும் என்று சொல்லப்பட்டால்.\n",
      "Kannada: ಕೆಲವು ಎಮ್ಸಿಗಳಲ್ಲಿ ವೇಲ್ಷ್ ಪಾರ್ಲಿಮೆಂಟ್ನ ಸದಸ್ಯರಾಗಿರುವ ಎಂಬ ಸಲಹೆಯಿಂದ ಕಾಂಸ್ಟರ್ನೇಷನ್ ಇದೆ.\n",
      "\n",
      "English: It has arisen because of the plans to change the name of the assembly to the Welsh Parliament.\n",
      "Malayalam: അത് അസ്സമ്മേളനത്തിന്റെ പേര് വെൽഷ് പാർലിമെന്റാക്കുന്നതിനെ കാരണം ഉദ്ഭവിച്ചതാണ്.\n",
      "Hindi: कारण की योजना के कारण यह उत्पन्न हुआ है कि विधानसभा का नाम वेल्श पर्लामेंट में बदला जाए।\n",
      "Tamil: அவரவர் மாற்றப்பட்ட இருப்பிற்காகவே பேரவையின் பெயர் வலிஷ் சட்டமன்றமாக மாற்றுவதற்கான திட்டங்களால் உருவாகியுள்ளது.\n",
      "Kannada: ಅಸೇಮ್ಬ್ಲಿಯ ಹೆಸರು ವೇಲ್ಷ್ ಪಾರ್ಲಿಮೆಂಟ್ ಎಂದು ಬದಲಾವಣೆ ಯೋಜನೆಗಳಿಂದ ಉಂಟಾಗಿದೆ.\n",
      "\n"
     ]
    }
   ],
   "source": [
    "# Define a function to translate English text to a given target language using the Groq Llama model\n",
    "# Add instruction to the prompt for concise output\n",
    "def llama_translate(text, target_lang):\n",
    "    prompt = (\n",
    "        f\"Translate the following English sentence to {target_lang}.\\n\"\n",
    "        f\"Just give answer in target language without any extra explanations.\\n\"\n",
    "        f\"English: {text}\\n\"\n",
    "        f\"{target_lang.capitalize()}:\"\n",
    "    )\n",
    "    try:\n",
    "        response = llm.invoke(prompt)\n",
    "        return response.content.strip()\n",
    "    except Exception as e:\n",
    "        print(f\"Error translating to {target_lang}: {e}\")\n",
    "        return None\n",
    "\n",
    "# Prepare lists to store translations\n",
    "llama_malayalam = []\n",
    "llama_hindi = []\n",
    "llama_tamil = []\n",
    "llama_kannada = []\n",
    "\n",
    "# Use only the first 100 samples for translation\n",
    "for text in english_sentences[:200]:\n",
    "    llama_malayalam.append(llama_translate(text, \"malayalam\"))\n",
    "    llama_hindi.append(llama_translate(text, \"hindi\"))\n",
    "    llama_tamil.append(llama_translate(text, \"tamil\"))\n",
    "    llama_kannada.append(llama_translate(text, \"kannada\"))\n",
    "\n",
    "# Print the first 10 translations for each language\n",
    "print(\"\\nLlama Translations (showing 3 entries):\")\n",
    "for i in range(3):\n",
    "    print(f\"English: {english_sentences[i]}\")\n",
    "    print(f\"Malayalam: {llama_malayalam[i]}\")\n",
    "    print(f\"Hindi: {llama_hindi[i]}\")\n",
    "    print(f\"Tamil: {llama_tamil[i]}\")\n",
    "    print(f\"Kannada: {llama_kannada[i]}\\n\")"
   ]
  },
  {
   "cell_type": "code",
   "execution_count": 7,
   "id": "c28f2e90",
   "metadata": {},
   "outputs": [],
   "source": [
    "from nltk.translate.bleu_score import sentence_bleu, SmoothingFunction\n",
    "\n",
    "llama_languages = [\n",
    "    (\"Hindi\", hindi_sentences, llama_hindi),\n",
    "    (\"Malayalam\", malayalam_sentences, llama_malayalam),\n",
    "    (\"Tamil\", tamil_sentences, llama_tamil),\n",
    "    (\"Kannada\", kannada_sentences, llama_kannada)\n",
    "]"
   ]
  },
  {
   "cell_type": "markdown",
   "id": "71ec8df1",
   "metadata": {},
   "source": [
    "### Llama BLEU"
   ]
  },
  {
   "cell_type": "code",
   "execution_count": 9,
   "id": "afbaf75e",
   "metadata": {},
   "outputs": [
    {
     "name": "stdout",
     "output_type": "stream",
     "text": [
      "Average BLEU score for Hindi: 0.0733\n",
      "Average BLEU score for Malayalam: 0.0198\n",
      "Average BLEU score for Tamil: 0.0242\n",
      "Average BLEU score for Kannada: 0.0251\n",
      "\n",
      "Llama's overall average BLEU score across all languages: 0.0356\n"
     ]
    }
   ],
   "source": [
    "\n",
    "\n",
    "llama_bleu_scores = {}\n",
    "\n",
    "smoothie = SmoothingFunction().method4\n",
    "\n",
    "for lang_name, ref_list, cand_list in llama_languages:\n",
    "    references = [[ref_list[i].split()] for i in range(len(cand_list))]\n",
    "    candidates = [cand_list[i].split() for i in range(len(cand_list))]\n",
    "    bleu_scores = [sentence_bleu(references[i], candidates[i], smoothing_function=smoothie) for i in range(len(candidates))]\n",
    "    avg_score = sum(bleu_scores) / len(bleu_scores) if bleu_scores else 0\n",
    "    llama_bleu_scores[lang_name] = avg_score\n",
    "    # print(f\"\\n{lang_name} BLEU scores:\")\n",
    "    # for idx, score in enumerate(bleu_scores):\n",
    "    #     print(f\"Reference {idx+1}: {' '.join(references[idx][0])}\")\n",
    "    #     print(f\"Candidate {idx+1}: {' '.join(candidates[idx])}\")\n",
    "    #     # print(f\"BLEU score: {score:.4f}\\n\")\n",
    "    print(f\"Average BLEU score for {lang_name}: {avg_score:.4f}\")\n",
    "\n",
    "# Save overall average BLEU score for llama translations\n",
    "llama_average_bleu = sum(llama_bleu_scores.values()) / len(llama_bleu_scores)\n",
    "print(f\"\\nLlama's overall average BLEU score across all languages: {llama_average_bleu:.4f}\")\n",
    "\n"
   ]
  },
  {
   "cell_type": "markdown",
   "id": "95d33d8a",
   "metadata": {},
   "source": [
    "### Llama METEOR"
   ]
  },
  {
   "cell_type": "code",
   "execution_count": 10,
   "id": "aae26ccc",
   "metadata": {},
   "outputs": [
    {
     "name": "stdout",
     "output_type": "stream",
     "text": [
      "Average meteor_scores score for Hindi: 0.2607\n",
      "Average meteor_scores score for Malayalam: 0.0722\n",
      "Average meteor_scores score for Tamil: 0.0855\n",
      "Average meteor_scores score for Kannada: 0.0987\n",
      "\n",
      "Llama's overall average METEOR score across all languages: 0.1293\n"
     ]
    }
   ],
   "source": [
    "from nltk.translate.meteor_score import meteor_score\n",
    "\n",
    "def tokenize(text):\n",
    "    return nltk.word_tokenize(text)\n",
    "\n",
    "llama_meteor_scores = {}\n",
    "\n",
    "for lang_name, ref_list, cand_list in llama_languages:\n",
    "    references = [[ref_list[i].split()] for i in range(len(cand_list))]\n",
    "    candidates = [cand_list[i].split() for i in range(len(cand_list))]\n",
    "    meteor_scores = [meteor_score(references[i], candidates[i]) for i in range(len(candidates))]\n",
    "    avg_score = sum(meteor_scores) / len(meteor_scores) if meteor_scores else 0\n",
    "    llama_meteor_scores[lang_name] = avg_score\n",
    "    # print(f\"\\n{lang_name} Meteor scores:\")\n",
    "    # for idx, score in enumerate(meteor_scores):\n",
    "    #     print(f\"Reference {idx+1}: {' '.join(references[idx][0])}\")\n",
    "    #     print(f\"Candidate {idx+1}: {' '.join(candidates[idx])}\")\n",
    "    #     print(f\"meteor_scores score: {score:.4f}\\n\")\n",
    "    print(f\"Average meteor_scores score for {lang_name}: {avg_score:.4f}\")\n",
    "\n",
    "# Save overall average BLEU score for llama translations\n",
    "llama_average_meteor = sum(llama_meteor_scores.values()) / len(llama_meteor_scores)\n",
    "print(f\"\\nLlama's overall average METEOR score across all languages: {llama_average_meteor:.4f}\")  "
   ]
  },
  {
   "cell_type": "markdown",
   "id": "dc7e3ce4",
   "metadata": {},
   "source": [
    "### Llama ROGUE"
   ]
  },
  {
   "cell_type": "code",
   "execution_count": 8,
   "id": "1ed9137b",
   "metadata": {},
   "outputs": [
    {
     "name": "stdout",
     "output_type": "stream",
     "text": [
      "\n",
      "Hindi ROUGE Scores (GPT-4o):\n",
      "  ROUGE-1 F1: 0.1632\n",
      "  ROUGE-2 F1: 0.0352\n",
      "  ROUGE-L F1: 0.1592\n",
      "\n",
      "Malayalam ROUGE Scores (GPT-4o):\n",
      "  ROUGE-1 F1: 0.1545\n",
      "  ROUGE-2 F1: 0.0407\n",
      "  ROUGE-L F1: 0.1530\n",
      "\n",
      "Tamil ROUGE Scores (GPT-4o):\n",
      "  ROUGE-1 F1: 0.1760\n",
      "  ROUGE-2 F1: 0.0288\n",
      "  ROUGE-L F1: 0.1721\n",
      "\n",
      "Kannada ROUGE Scores (GPT-4o):\n",
      "  ROUGE-1 F1: 0.0636\n",
      "  ROUGE-2 F1: 0.0194\n",
      "  ROUGE-L F1: 0.0636\n",
      "\n",
      "GPT-4o's overall average ROUGE-1 F1: 0.1393\n",
      "GPT-4o's overall average ROUGE-2 F1: 0.0310\n",
      "GPT-4o's overall average ROUGE-L F1: 0.1370\n"
     ]
    }
   ],
   "source": [
    "from rouge_score import rouge_scorer\n",
    "\n",
    "# Evaluate ROUGE scores for all languages and print each separately for GPT-4o\n",
    "llama_rouge_scores = {}\n",
    "\n",
    "for lang_name, ref_list, cand_list in llama_languages:\n",
    "    # Use only the first N samples for fair comparison (N = len(cand_list))\n",
    "    references = ref_list[:len(cand_list)]\n",
    "    candidates = cand_list\n",
    "    scorer = rouge_scorer.RougeScorer(['rouge1', 'rouge2', 'rougeL'], use_stemmer=True)\n",
    "    rouge1_scores, rouge2_scores, rougeL_scores = [], [], []\n",
    "    for ref, cand in zip(references, candidates):\n",
    "        scores = scorer.score(ref, cand)\n",
    "        rouge1_scores.append(scores['rouge1'].fmeasure)\n",
    "        rouge2_scores.append(scores['rouge2'].fmeasure)\n",
    "        rougeL_scores.append(scores['rougeL'].fmeasure)\n",
    "    avg_rouge1 = sum(rouge1_scores) / len(rouge1_scores)\n",
    "    avg_rouge2 = sum(rouge2_scores) / len(rouge2_scores)\n",
    "    avg_rougeL = sum(rougeL_scores) / len(rougeL_scores)\n",
    "    llama_rouge_scores[lang_name] = {\n",
    "        'ROUGE-1': avg_rouge1,\n",
    "        'ROUGE-2': avg_rouge2,\n",
    "        'ROUGE-L': avg_rougeL\n",
    "    }\n",
    "    print(f\"\\n{lang_name} ROUGE Scores (GPT-4o):\")\n",
    "    print(f\"  ROUGE-1 F1: {avg_rouge1:.4f}\")\n",
    "    print(f\"  ROUGE-2 F1: {avg_rouge2:.4f}\")\n",
    "    print(f\"  ROUGE-L F1: {avg_rougeL:.4f}\")\n",
    "\n",
    "# Optionally, print overall averages\n",
    "avg_rouge1_all = sum([v['ROUGE-1'] for v in llama_rouge_scores.values()]) / len(llama_rouge_scores)\n",
    "avg_rouge2_all = sum([v['ROUGE-2'] for v in llama_rouge_scores.values()]) / len(llama_rouge_scores)\n",
    "avg_rougeL_all = sum([v['ROUGE-L'] for v in llama_rouge_scores.values()]) / len(llama_rouge_scores)\n",
    "print(f\"\\nGPT-4o's overall average ROUGE-1 F1: {avg_rouge1_all:.4f}\")\n",
    "print(f\"GPT-4o's overall average ROUGE-2 F1: {avg_rouge2_all:.4f}\")\n",
    "print(f\"GPT-4o's overall average ROUGE-L F1: {avg_rougeL_all:.4f}\")"
   ]
  },
  {
   "cell_type": "markdown",
   "id": "b6e06ef0",
   "metadata": {},
   "source": [
    "## OpenAI Evaluation"
   ]
  },
  {
   "cell_type": "code",
   "execution_count": 11,
   "id": "86a6b974",
   "metadata": {},
   "outputs": [],
   "source": [
    "import os\n",
    "from openai import OpenAI  # the new client entrypoint\n",
    "\n",
    "# Initialize the client once\n",
    "client = OpenAI(api_key=os.getenv(\"OPENAI_API_KEY\"))\n",
    "if not client.api_key:\n",
    "    raise ValueError(\"Please set the OPENAI_API_KEY environment variable.\")\n",
    "\n",
    "def gpt4o_translate(text: str, target_lang: str) -> str | None:\n",
    "    prompt = (\n",
    "        f\"Translate the following English sentence to {target_lang}.\\n\"\n",
    "        \"Just give the answer in the target language without any extra explanations.\\n\"\n",
    "        f\"English: {text}\\n\"\n",
    "        f\"{target_lang.capitalize()}:\"\n",
    "    )\n",
    "\n",
    "    try:\n",
    "        # call the chat completion endpoint\n",
    "        response = client.chat.completions.create(\n",
    "            model=\"gpt-4o-mini\",\n",
    "            messages=[{\"role\": \"user\", \"content\": prompt}],\n",
    "            max_tokens=256,\n",
    "            temperature=0.2,\n",
    "        )\n",
    "        # pull out the actual translated text\n",
    "        return response.choices[0].message.content.strip()\n",
    "\n",
    "    except Exception as e:\n",
    "        print(f\"Error translating to {target_lang}: {e}\")\n",
    "        return None\n"
   ]
  },
  {
   "cell_type": "code",
   "execution_count": 12,
   "id": "d7edd3dc",
   "metadata": {},
   "outputs": [
    {
     "name": "stdout",
     "output_type": "stream",
     "text": [
      "\n",
      "GPT-4o-mini Translations (showing 3 entries):\n",
      "English: Welsh AMs are worried about 'looking like muppets'\n",
      "Malayalam: വെൽഷ് എഎംമാർ 'മപ്പറ്റുകളായി കാണപ്പെടുന്നതിനെക്കുറിച്ച്' ആശങ്കയിലാണ്.\n",
      "Hindi: वेल्श एएम्स 'मप्पेट्स की तरह दिखने' को लेकर चिंतित हैं।\n",
      "Tamil: வெல்ஷ் எம்ஸ்கள் 'மப்பெட்ஸ் போல தோன்றுவது' குறித்து கவலைப்படுகிறார்கள்.\n",
      "Kannada: ವೆಲ್ಷ್ ಎಎಮ್‌ಗಳು 'ಮಪ್ಪೆಟ್‌ಗಳಂತೆ ಕಾಣುವುದರಲ್ಲಿ' ಚಿಂತನಶೀಲರಾಗಿದ್ದಾರೆ.\n",
      "\n",
      "English: There is consternation among some AMs at a suggestion that their title should change to MWPs (Member of the Welsh Parliament).\n",
      "Malayalam: കഴിഞ്ഞ കുറേ AMമാരിൽ അവരുടെ തലക്കെട്ട് MWPs (വെൽഷ് പാർലമെന്റിന്റെ അംഗം) എന്നതിലേക്ക് മാറ്റണമെന്ന് ഒരു നിർദ്ദേശത്തെക്കുറിച്ച് ആശങ്ക ഉണ്ട്.\n",
      "Hindi: कुछ AMs के बीच इस सुझाव को लेकर चिंता है कि उनका शीर्षक MWPs (वेल्श संसद के सदस्य) में बदलना चाहिए।\n",
      "Tamil: சில AMகளுக்கு அவர்களின் தலைப்பு MWPs (வெல்ஷ் பார்லியமென்ற உறுப்பினர்) ஆக மாற வேண்டும் என்ற பரிந்துரைக்கு அதிர்ச்சி ஏற்பட்டுள்ளது.\n",
      "Kannada: ಕೆಲವು AM ಗಳಲ್ಲಿ ಅವರ ಶೀರ್ಷಿಕೆ MWPs (ವೆಲ್ಷ್ ಪಾರ್ಲಿಮೆಂಟ್ ಸದಸ್ಯ) ಗೆ ಬದಲಾಯಿಸುವ ಸಲಹೆಯ ಬಗ್ಗೆ ಆತಂಕವಿದೆ.\n",
      "\n",
      "English: It has arisen because of the plans to change the name of the assembly to the Welsh Parliament.\n",
      "Malayalam: ഇത് അസംബ്ലിയുടെ പേര് വെൽഷ് പാർലമെന്റിലേക്ക് മാറ്റാനുള്ള പദ്ധതികളുടെ കാരണം ഉന്നമിച്ചിരിക്കുന്നു.\n",
      "Hindi: यह उस योजना के कारण उत्पन्न हुआ है जिसमें विधानसभा का नाम वेल्श संसद में बदलने की बात की गई है।\n",
      "Tamil: இது அசம்பிளியின் பெயரை வெல்ஷ் பார்லியமென மாற்றுவதற்கான திட்டங்களால் உருவாகியுள்ளது.\n",
      "Kannada: ಇದು ಸಭೆಯ ಹೆಸರನ್ನು ವೆಲ್ಷ್ ಪಾರ್ಲಿಯಮೆಂಟ್ ಗೆ ಬದಲಾಯಿಸಲು ಮಾಡಿದ ಯೋಜನೆಗಳ ಕಾರಣದಿಂದ ಉಂಟಾಗಿದೆ.\n",
      "\n"
     ]
    }
   ],
   "source": [
    "# Translate first 100 English sentences to all target languages using GPT-4o-mini\n",
    "gpt4o_malayalam = []\n",
    "gpt4o_hindi = []\n",
    "gpt4o_tamil = []\n",
    "gpt4o_kannada = []\n",
    "\n",
    "for text in english_sentences[:200]:\n",
    "    gpt4o_malayalam.append(gpt4o_translate(text, \"malayalam\"))\n",
    "    gpt4o_hindi.append(gpt4o_translate(text, \"hindi\"))\n",
    "    gpt4o_tamil.append(gpt4o_translate(text, \"tamil\"))\n",
    "    gpt4o_kannada.append(gpt4o_translate(text, \"kannada\"))\n",
    "\n",
    "# Print the first 3 translations for each language\n",
    "print(\"\\nGPT-4o-mini Translations (showing 3 entries):\")\n",
    "for i in range(3):\n",
    "    print(f\"English: {english_sentences[i]}\")\n",
    "    print(f\"Malayalam: {gpt4o_malayalam[i]}\")\n",
    "    print(f\"Hindi: {gpt4o_hindi[i]}\")\n",
    "    print(f\"Tamil: {gpt4o_tamil[i]}\")\n",
    "    print(f\"Kannada: {gpt4o_kannada[i]}\\n\")\n"
   ]
  },
  {
   "cell_type": "code",
   "execution_count": 13,
   "id": "564d9ec4",
   "metadata": {},
   "outputs": [],
   "source": [
    "from nltk.translate.bleu_score import sentence_bleu, SmoothingFunction\n",
    "\n",
    "gpt4o_languages = [\n",
    "    (\"Hindi\", hindi_sentences, gpt4o_hindi),\n",
    "    (\"Malayalam\", malayalam_sentences, gpt4o_malayalam),\n",
    "    (\"Tamil\", tamil_sentences, gpt4o_tamil),\n",
    "    (\"Kannada\", kannada_sentences, gpt4o_kannada)\n",
    "]"
   ]
  },
  {
   "cell_type": "markdown",
   "id": "ff8f613f",
   "metadata": {},
   "source": [
    "### GPT BLEU"
   ]
  },
  {
   "cell_type": "code",
   "execution_count": 15,
   "id": "8edc7f37",
   "metadata": {},
   "outputs": [
    {
     "name": "stdout",
     "output_type": "stream",
     "text": [
      "Average BLEU score for Hindi: 0.1501\n",
      "Average BLEU score for Malayalam: 0.0465\n",
      "Average BLEU score for Tamil: 0.0515\n",
      "Average BLEU score for Kannada: 0.0477\n",
      "\n",
      "GPT-4o's overall average BLEU score across all languages: 0.0740\n"
     ]
    }
   ],
   "source": [
    "\n",
    "\n",
    "gpt4o_bleu_scores = {}\n",
    "smoothie = SmoothingFunction().method4\n",
    "\n",
    "for lang_name, ref_list, cand_list in gpt4o_languages:\n",
    "    references = [[ref_list[i].split()] for i in range(len(cand_list))]\n",
    "    candidates = [cand_list[i].split() for i in range(len(cand_list))]\n",
    "    bleu_scores = [sentence_bleu(references[i], candidates[i], smoothing_function=smoothie) for i in range(len(candidates))]\n",
    "    avg_score = sum(bleu_scores) / len(bleu_scores) if bleu_scores else 0\n",
    "    gpt4o_bleu_scores[lang_name] = avg_score\n",
    "    print(f\"Average BLEU score for {lang_name}: {avg_score:.4f}\")\n",
    "\n",
    "gpt4o_average_bleu = sum(gpt4o_bleu_scores.values()) / len(gpt4o_bleu_scores)\n",
    "print(f\"\\nGPT-4o's overall average BLEU score across all languages: {gpt4o_average_bleu:.4f}\")"
   ]
  },
  {
   "cell_type": "markdown",
   "id": "2b67f585",
   "metadata": {},
   "source": [
    "### GPT  METEOR"
   ]
  },
  {
   "cell_type": "code",
   "execution_count": 16,
   "id": "9e8ff8a9",
   "metadata": {},
   "outputs": [
    {
     "name": "stdout",
     "output_type": "stream",
     "text": [
      "\n",
      "Hindi METEOR scores:\n",
      "Average METEOR score for Hindi: 0.1748\n",
      "\n",
      "Malayalam METEOR scores:\n",
      "Average METEOR score for Malayalam: 0.1748\n",
      "\n",
      "Tamil METEOR scores:\n",
      "Average METEOR score for Tamil: 0.1748\n",
      "\n",
      "Kannada METEOR scores:\n",
      "Average METEOR score for Kannada: 0.1748\n",
      "\n",
      "gpt4o's overall average METEOR score across all languages: 0.1748\n"
     ]
    }
   ],
   "source": [
    "from nltk.translate.meteor_score import meteor_score\n",
    "\n",
    "def tokenize(text):\n",
    "    return nltk.word_tokenize(text)\n",
    "\n",
    "gpt4o_meteor_scores = {}\n",
    "\n",
    "for lang_name, ref_list, cand_list in gpt4o_languages:\n",
    "    meteor_scores = [meteor_score(references[i], candidates[i]) for i in range(len(candidates))]    \n",
    "    avg_score = sum(meteor_scores) / len(meteor_scores) if meteor_scores else 0\n",
    "    gpt4o_meteor_scores[lang_name] = avg_score\n",
    "    print(f\"\\n{lang_name} METEOR scores:\")\n",
    "    print(f\"Average METEOR score for {lang_name}: {avg_score:.4f}\")\n",
    "\n",
    "gpt4o_average_meteor = sum(gpt4o_meteor_scores.values()) / len(gpt4o_meteor_scores)\n",
    "print(f\"\\ngpt4o's overall average METEOR score across all languages: {gpt4o_average_meteor:.4f}\")\n",
    "\n"
   ]
  },
  {
   "cell_type": "markdown",
   "id": "e561cb5b",
   "metadata": {},
   "source": [
    "### GPT ROGUE"
   ]
  },
  {
   "cell_type": "code",
   "execution_count": 14,
   "id": "dd53ebe2",
   "metadata": {},
   "outputs": [
    {
     "name": "stdout",
     "output_type": "stream",
     "text": [
      "\n",
      "Hindi ROUGE Scores (GPT-4o):\n",
      "  ROUGE-1 F1: 0.2376\n",
      "  ROUGE-2 F1: 0.0711\n",
      "  ROUGE-L F1: 0.2331\n",
      "\n",
      "Malayalam ROUGE Scores (GPT-4o):\n",
      "  ROUGE-1 F1: 0.1803\n",
      "  ROUGE-2 F1: 0.0600\n",
      "  ROUGE-L F1: 0.1796\n",
      "\n",
      "Tamil ROUGE Scores (GPT-4o):\n",
      "  ROUGE-1 F1: 0.2377\n",
      "  ROUGE-2 F1: 0.0513\n",
      "  ROUGE-L F1: 0.2294\n",
      "\n",
      "Kannada ROUGE Scores (GPT-4o):\n",
      "  ROUGE-1 F1: 0.2558\n",
      "  ROUGE-2 F1: 0.0738\n",
      "  ROUGE-L F1: 0.2492\n",
      "\n",
      "GPT-4o's overall average ROUGE-1 F1: 0.2279\n",
      "GPT-4o's overall average ROUGE-2 F1: 0.0641\n",
      "GPT-4o's overall average ROUGE-L F1: 0.2228\n"
     ]
    }
   ],
   "source": [
    "from rouge_score import rouge_scorer\n",
    "\n",
    "# Evaluate ROUGE scores for all languages and print each separately for GPT-4o\n",
    "gpt4o_rouge_scores = {}\n",
    "\n",
    "for lang_name, ref_list, cand_list in gpt4o_languages:\n",
    "    # Use only the first N samples for fair comparison (N = len(cand_list))\n",
    "    references = ref_list[:len(cand_list)]\n",
    "    candidates = cand_list\n",
    "    scorer = rouge_scorer.RougeScorer(['rouge1', 'rouge2', 'rougeL'], use_stemmer=True)\n",
    "    rouge1_scores, rouge2_scores, rougeL_scores = [], [], []\n",
    "    for ref, cand in zip(references, candidates):\n",
    "        scores = scorer.score(ref, cand)\n",
    "        rouge1_scores.append(scores['rouge1'].fmeasure)\n",
    "        rouge2_scores.append(scores['rouge2'].fmeasure)\n",
    "        rougeL_scores.append(scores['rougeL'].fmeasure)\n",
    "    avg_rouge1 = sum(rouge1_scores) / len(rouge1_scores)\n",
    "    avg_rouge2 = sum(rouge2_scores) / len(rouge2_scores)\n",
    "    avg_rougeL = sum(rougeL_scores) / len(rougeL_scores)\n",
    "    gpt4o_rouge_scores[lang_name] = {\n",
    "        'ROUGE-1': avg_rouge1,\n",
    "        'ROUGE-2': avg_rouge2,\n",
    "        'ROUGE-L': avg_rougeL\n",
    "    }\n",
    "    print(f\"\\n{lang_name} ROUGE Scores (GPT-4o):\")\n",
    "    print(f\"  ROUGE-1 F1: {avg_rouge1:.4f}\")\n",
    "    print(f\"  ROUGE-2 F1: {avg_rouge2:.4f}\")\n",
    "    print(f\"  ROUGE-L F1: {avg_rougeL:.4f}\")\n",
    "\n",
    "# Optionally, print overall averages\n",
    "avg_rouge1_all = sum([v['ROUGE-1'] for v in gpt4o_rouge_scores.values()]) / len(gpt4o_rouge_scores)\n",
    "avg_rouge2_all = sum([v['ROUGE-2'] for v in gpt4o_rouge_scores.values()]) / len(gpt4o_rouge_scores)\n",
    "avg_rougeL_all = sum([v['ROUGE-L'] for v in gpt4o_rouge_scores.values()]) / len(gpt4o_rouge_scores)\n",
    "print(f\"\\nGPT-4o's overall average ROUGE-1 F1: {avg_rouge1_all:.4f}\")\n",
    "print(f\"GPT-4o's overall average ROUGE-2 F1: {avg_rouge2_all:.4f}\")\n",
    "print(f\"GPT-4o's overall average ROUGE-L F1: {avg_rougeL_all:.4f}\")"
   ]
  },
  {
   "cell_type": "markdown",
   "id": "5b70d201",
   "metadata": {},
   "source": [
    "### Sarvam API Evaluation"
   ]
  },
  {
   "cell_type": "code",
   "execution_count": 17,
   "id": "cf094d11",
   "metadata": {},
   "outputs": [
    {
     "name": "stdout",
     "output_type": "stream",
     "text": [
      "✅ Sarvam AI client initialized\n"
     ]
    }
   ],
   "source": [
    "# Import SarvamAI client class (make sure the SarvamAI SDK is installed and imported correctly)\n",
    "from sarvamai import SarvamAI  # Adjust import based on actual SDK\n",
    "\n",
    "# Your Sarvam API key\n",
    "sarvam_api_key = os.getenv(\"SARVAM_API_KEY\")  # Replace with your actual API key\n",
    "\n",
    "# Initialize SarvamAI client globally\n",
    "try:\n",
    "    sarvam_client = SarvamAI(api_subscription_key=sarvam_api_key)\n",
    "    print(\"✅ Sarvam AI client initialized\")\n",
    "except Exception as e:\n",
    "    print(f\"Error initializing Sarvam AI client: {e}\")\n",
    "    sarvam_client = None  # Set client to None if initialization fails\n",
    "\n",
    "def sarvam_translate(text, target_lang_code=\"hi-IN\"):\n",
    "    \"\"\"\n",
    "    Translate input text from English (en-IN) to target language using Sarvam API.\n",
    "    \"\"\"\n",
    "    if sarvam_client is None:\n",
    "        raise RuntimeError(\"Sarvam AI client is not initialized.\")\n",
    "    \n",
    "    try:\n",
    "        response = sarvam_client.text.translate(\n",
    "            input=text,\n",
    "            source_language_code=\"en-IN\",  # Assuming source is English (India)\n",
    "            target_language_code=target_lang_code,\n",
    "            speaker_gender=\"Male\",         # Default as per examples\n",
    "            mode=\"formal\",                 # sarvam-translate:v1 supports formal mode only\n",
    "            enable_preprocessing=False     # As per notebook examples\n",
    "            # numerals_format=\"international\"  # Optional parameter if needed\n",
    "        )\n",
    "        return response.translated_text\n",
    "    except Exception as e:\n",
    "        print(f\"Translation error: {e}\")\n",
    "        return None"
   ]
  },
  {
   "cell_type": "code",
   "execution_count": 36,
   "id": "520e0ef3",
   "metadata": {},
   "outputs": [
    {
     "name": "stdout",
     "output_type": "stream",
     "text": [
      "\n",
      "Sarvam Translations (showing 3 entries):\n",
      "English: Welsh AMs are worried about 'looking like muppets'\n",
      "Malayalam: വെൽഷ് എ.എംമാർ 'മപ്പെറ്റുകളെപ്പോലെ കാണപ്പെടുന്ന'തിനെക്കുറിച്ച് ആശങ്കാകുലരാണ്.\n",
      "Hindi: वेल्श ए.एम. 'मूर्खों की तरह दिखने' के बारे में चिंतित हैं\n",
      "Tamil: வெல்ஷ் ஏஎம்-கள் 'முப்பெட்ஸ் போல் தோன்றுவது' குறித்து கவலைப்படுகிறார்கள்.\n",
      "Kannada: ವೆಲ್ಷ್ ಎ.ಎಂ.ಗಳು 'ಮूपुरಟ್ಟಿನವರಂತೆ ಕಾಣುವ' ಬಗ್ಗೆ ಚಿಂತಿತರಾಗಿದ್ದಾರೆ.\n",
      "\n",
      "English: There is consternation among some AMs at a suggestion that their title should change to MWPs (Member of the Welsh Parliament).\n",
      "Malayalam: തങ്ങളുടെ പദവി എം.ഡബ്ല്യു.പി.കൾ (വെൽഷ് പാർലമെൻ്റ് അംഗം) എന്നാക്കി മാറ്റണമെന്ന നിർദ്ദേശത്തിൽ ചില എ.എംമാർ പരിഭ്രാന്തരാണ്.\n",
      "Hindi: कुछ ए.एम.ों के बीच यह सुझाव आने पर दहशत है कि उनका शीर्षक बदलकर एम.डब्ल्यू.पी. (वेल्श संसद के सदस्य) कर दिया जाना चाहिए।\n",
      "Tamil: தங்கள் தலைப்பை எம்டபிள்யூபிஎஸ் (வெல்ஷ் பாராளுமன்ற உறுப்பினர்) என்று மாற்ற வேண்டும் என்ற ஆலோசனையைக் கேட்டு சில ஏஎம்-கள் அச்சமடைகின்றனர்.\n",
      "Kannada: ತಮ್ಮ ಶೀರ್ಷಿಕೆಯನ್ನು ಎಂ.ಡಬ್ಲ್ಯೂ.ಪಿ.ಗಳಿಗೆ (ವೆಲ್ಷ್ ಸಂಸತ್ತಿನ ಸದಸ್ಯರು) ಬದಲಾಯಿಸಬೇಕು ಎಂಬ ಸಲಹೆಯ ಬಗ್ಗೆ ಕೆಲವು ಎ.ಎಂ.ಗಳಲ್ಲಿ ಆತಂಕವಿದೆ.\n",
      "\n",
      "English: It has arisen because of the plans to change the name of the assembly to the Welsh Parliament.\n",
      "Malayalam: നിയമസഭയുടെ പേര് വെയിൽസ് പാർലമെൻ്റ് എന്ന് മാറ്റാനുള്ള പദ്ധതികൾ കാരണം ഇത് ഉയർന്നുവന്നിട്ടുണ്ട്.\n",
      "Hindi: यह वेल्स की संसद के नाम को बदलने की योजना के कारण उत्पन्न हुआ है।\n",
      "Tamil: வெல்ஷ் பாராளுமன்றம் என்று சட்டமன்றத்தின் பெயரை மாற்றுவதற்கான திட்டங்களின் காரணமாக இது எழுந்துள்ளது.\n",
      "Kannada: ವೆಲ್ಷ್ ಪಾರ್ಲಿಮೆಂಟ್ ಎಂದು ವಿಧಾನಸಭೆಯ ಹೆಸರನ್ನು ಬದಲಾಯಿಸುವ ಯೋಜನೆಗಳ ಕಾರಣ ಇದು ಉದ್ಭವಿಸಿದೆ.\n",
      "\n"
     ]
    }
   ],
   "source": [
    "# Define Sarvam language codes for each target language\n",
    "sarvam_lang_codes = {\n",
    "    \"Hindi\": \"hi-IN\",\n",
    "    \"Malayalam\": \"ml-IN\",\n",
    "    \"Tamil\": \"ta-IN\",\n",
    "    \"Kannada\": \"kn-IN\"\n",
    "}\n",
    "\n",
    "# Prepare lists to store Sarvam translations\n",
    "sarvam_malayalam = []\n",
    "sarvam_hindi = []\n",
    "sarvam_tamil = []\n",
    "sarvam_kannada = []\n",
    "\n",
    "# Translate first 100 English sentences to all target languages using Sarvam\n",
    "for text in english_sentences[:200]:\n",
    "    sarvam_malayalam.append(sarvam_translate(text, sarvam_lang_codes[\"Malayalam\"]))\n",
    "    sarvam_hindi.append(sarvam_translate(text, sarvam_lang_codes[\"Hindi\"]))\n",
    "    sarvam_tamil.append(sarvam_translate(text, sarvam_lang_codes[\"Tamil\"]))\n",
    "    sarvam_kannada.append(sarvam_translate(text, sarvam_lang_codes[\"Kannada\"]))\n",
    "\n",
    "# Print the first 3 translations for each language\n",
    "print(\"\\nSarvam Translations (showing 3 entries):\")\n",
    "for i in range(3):\n",
    "    print(f\"English: {english_sentences[i]}\")\n",
    "    print(f\"Malayalam: {sarvam_malayalam[i]}\")\n",
    "    print(f\"Hindi: {sarvam_hindi[i]}\")\n",
    "    print(f\"Tamil: {sarvam_tamil[i]}\")\n",
    "    print(f\"Kannada: {sarvam_kannada[i]}\\n\")"
   ]
  },
  {
   "cell_type": "code",
   "execution_count": 37,
   "id": "cddcdc11",
   "metadata": {},
   "outputs": [],
   "source": [
    "from nltk.translate.bleu_score import sentence_bleu, SmoothingFunction\n",
    "\n",
    "# Prepare references and candidates for BLEU evaluation for Sarvam\n",
    "sarvam_languages = [\n",
    "    (\"Hindi\", hindi_sentences[:len(sarvam_hindi)], sarvam_hindi),\n",
    "    (\"Malayalam\", malayalam_sentences[:len(sarvam_malayalam)], sarvam_malayalam),\n",
    "    (\"Tamil\", tamil_sentences[:len(sarvam_tamil)], sarvam_tamil),\n",
    "    (\"Kannada\", kannada_sentences[:len(sarvam_kannada)], sarvam_kannada)\n",
    "]"
   ]
  },
  {
   "cell_type": "markdown",
   "id": "8e181486",
   "metadata": {},
   "source": [
    "### Sarvam BLEU"
   ]
  },
  {
   "cell_type": "code",
   "execution_count": 38,
   "id": "4c95537f",
   "metadata": {},
   "outputs": [
    {
     "name": "stdout",
     "output_type": "stream",
     "text": [
      "Average BLEU score for Hindi: 0.1210\n",
      "Average BLEU score for Malayalam: 0.0454\n",
      "Average BLEU score for Tamil: 0.0525\n",
      "Average BLEU score for Kannada: 0.0553\n",
      "\n",
      "Sarvam's overall average BLEU score across all languages: 0.0686\n"
     ]
    }
   ],
   "source": [
    "\n",
    "\n",
    "sarvam_bleu_scores = {}\n",
    "smoothie = SmoothingFunction().method4\n",
    "\n",
    "for lang_name, ref_list, cand_list in sarvam_languages:\n",
    "    references = [[ref_list[i].split()] for i in range(len(cand_list))]\n",
    "    candidates = [cand_list[i].split() for i in range(len(cand_list))]\n",
    "    bleu_scores = [sentence_bleu(references[i], candidates[i], smoothing_function=smoothie) for i in range(len(candidates))]\n",
    "    avg_score = sum(bleu_scores) / len(bleu_scores) if bleu_scores else 0\n",
    "    sarvam_bleu_scores[lang_name] = avg_score\n",
    "    print(f\"Average BLEU score for {lang_name}: {avg_score:.4f}\")\n",
    "\n",
    "sarvam_average_bleu = sum(sarvam_bleu_scores.values()) / len(sarvam_bleu_scores)\n",
    "print(f\"\\nSarvam's overall average BLEU score across all languages: {sarvam_average_bleu:.4f}\")"
   ]
  },
  {
   "cell_type": "markdown",
   "id": "19262a8d",
   "metadata": {},
   "source": [
    "### Sarvam METEOR"
   ]
  },
  {
   "cell_type": "code",
   "execution_count": 39,
   "id": "e9cb9481",
   "metadata": {},
   "outputs": [
    {
     "name": "stdout",
     "output_type": "stream",
     "text": [
      "\n",
      "Hindi METEOR scores:\n",
      "Average METEOR score for Hindi: 0.1753\n",
      "\n",
      "Malayalam METEOR scores:\n",
      "Average METEOR score for Malayalam: 0.1753\n",
      "\n",
      "Tamil METEOR scores:\n",
      "Average METEOR score for Tamil: 0.1753\n",
      "\n",
      "Kannada METEOR scores:\n",
      "Average METEOR score for Kannada: 0.1753\n",
      "\n",
      "Llama's overall average METEOR score across all languages: 0.1753\n"
     ]
    }
   ],
   "source": [
    "from nltk.translate.meteor_score import meteor_score\n",
    "\n",
    "def tokenize(text):\n",
    "    return nltk.word_tokenize(text)\n",
    "\n",
    "sarvam_meteor_scores = {}\n",
    "\n",
    "for lang_name, ref_list, cand_list in sarvam_languages:\n",
    "    meteor_scores = [meteor_score(references[i], candidates[i]) for i in range(len(candidates))]    \n",
    "    avg_score = sum(meteor_scores) / len(meteor_scores) if meteor_scores else 0\n",
    "    sarvam_meteor_scores[lang_name] = avg_score\n",
    "    print(f\"\\n{lang_name} METEOR scores:\")\n",
    "    print(f\"Average METEOR score for {lang_name}: {avg_score:.4f}\")\n",
    "\n",
    "sarvam_average_meteor = sum(sarvam_meteor_scores.values()) / len(sarvam_meteor_scores)\n",
    "print(f\"\\nLlama's overall average METEOR score across all languages: {sarvam_average_meteor:.4f}\")\n",
    "\n"
   ]
  },
  {
   "cell_type": "markdown",
   "id": "6bd8c1d4",
   "metadata": {},
   "source": [
    "### Sarvam ROGUE"
   ]
  },
  {
   "cell_type": "code",
   "execution_count": 40,
   "id": "da745584",
   "metadata": {},
   "outputs": [
    {
     "name": "stdout",
     "output_type": "stream",
     "text": [
      "\n",
      "Hindi ROUGE Scores (Sarvam):\n",
      "  ROUGE-1 F1: 0.1904\n",
      "  ROUGE-2 F1: 0.0423\n",
      "  ROUGE-L F1: 0.1869\n",
      "\n",
      "Malayalam ROUGE Scores (Sarvam):\n",
      "  ROUGE-1 F1: 0.1521\n",
      "  ROUGE-2 F1: 0.0346\n",
      "  ROUGE-L F1: 0.1486\n",
      "\n",
      "Tamil ROUGE Scores (Sarvam):\n",
      "  ROUGE-1 F1: 0.1980\n",
      "  ROUGE-2 F1: 0.0356\n",
      "  ROUGE-L F1: 0.1905\n",
      "\n",
      "Kannada ROUGE Scores (Sarvam):\n",
      "  ROUGE-1 F1: 0.2046\n",
      "  ROUGE-2 F1: 0.0511\n",
      "  ROUGE-L F1: 0.2000\n",
      "\n",
      "Sarvam's overall average ROUGE-1 F1: 0.1863\n",
      "Sarvam's overall average ROUGE-2 F1: 0.0409\n",
      "Sarvam's overall average ROUGE-L F1: 0.1815\n"
     ]
    }
   ],
   "source": [
    "from rouge_score import rouge_scorer\n",
    "\n",
    "# Evaluate ROUGE scores for all languages and print each separately for Sarvam\n",
    "sarvam_rouge_scores = {}\n",
    "\n",
    "for lang_name, ref_list, cand_list in sarvam_languages:\n",
    "    # Use only the first N samples for fair comparison (N = len(cand_list))\n",
    "    references = ref_list[:len(cand_list)]\n",
    "    candidates = cand_list\n",
    "    scorer = rouge_scorer.RougeScorer(['rouge1', 'rouge2', 'rougeL'], use_stemmer=True)\n",
    "    rouge1_scores, rouge2_scores, rougeL_scores = [], [], []\n",
    "    for ref, cand in zip(references, candidates):\n",
    "        scores = scorer.score(ref, cand)\n",
    "        rouge1_scores.append(scores['rouge1'].fmeasure)\n",
    "        rouge2_scores.append(scores['rouge2'].fmeasure)\n",
    "        rougeL_scores.append(scores['rougeL'].fmeasure)\n",
    "    avg_rouge1 = sum(rouge1_scores) / len(rouge1_scores)\n",
    "    avg_rouge2 = sum(rouge2_scores) / len(rouge2_scores)\n",
    "    avg_rougeL = sum(rougeL_scores) / len(rougeL_scores)\n",
    "    sarvam_rouge_scores[lang_name] = {\n",
    "        'ROUGE-1': avg_rouge1,\n",
    "        'ROUGE-2': avg_rouge2,\n",
    "        'ROUGE-L': avg_rougeL\n",
    "    }\n",
    "    print(f\"\\n{lang_name} ROUGE Scores (Sarvam):\")\n",
    "    print(f\"  ROUGE-1 F1: {avg_rouge1:.4f}\")\n",
    "    print(f\"  ROUGE-2 F1: {avg_rouge2:.4f}\")\n",
    "    print(f\"  ROUGE-L F1: {avg_rougeL:.4f}\")\n",
    "\n",
    "# Optionally, print overall averages\n",
    "avg_rouge1_all = sum([v['ROUGE-1'] for v in sarvam_rouge_scores.values()]) / len(sarvam_rouge_scores)\n",
    "avg_rouge2_all = sum([v['ROUGE-2'] for v in sarvam_rouge_scores.values()]) / len(sarvam_rouge_scores)\n",
    "avg_rougeL_all = sum([v['ROUGE-L'] for v in sarvam_rouge_scores.values()]) / len(sarvam_rouge_scores)\n",
    "print(f\"\\nSarvam's overall average ROUGE-1 F1: {avg_rouge1_all:.4f}\")\n",
    "print(f\"Sarvam's overall average ROUGE-2 F1: {avg_rouge2_all:.4f}\")\n",
    "print(f\"Sarvam's overall average ROUGE-L F1: {avg_rougeL_all:.4f}\")"
   ]
  },
  {
   "cell_type": "code",
   "execution_count": 41,
   "id": "a48ab1bf",
   "metadata": {},
   "outputs": [
    {
     "data": {
      "image/png": "[encoded data removed]",
      "text/plain": [
       "<Figure size 1800x500 with 3 Axes>"
      ]
     },
     "metadata": {},
     "output_type": "display_data"
    }
   ],
   "source": [
    "import numpy as np\n",
    "import matplotlib.pyplot as plt\n",
    "\n",
    "# Prepare data for plotting\n",
    "models = ['Llama', 'Sarvam', 'GPT-4o']\n",
    "languages = ['Hindi', 'Malayalam', 'Tamil', 'Kannada']\n",
    "\n",
    "# Reorder scores: Llama, Sarvam, GPT-4o\n",
    "bleu_scores = [\n",
    "    [llama_bleu_scores['Hindi'], llama_bleu_scores['Malayalam'], llama_bleu_scores['Tamil'], llama_bleu_scores['Kannada']],\n",
    "    [sarvam_bleu_scores['Hindi'], sarvam_bleu_scores['Malayalam'], sarvam_bleu_scores['Tamil'], sarvam_bleu_scores['Kannada']],\n",
    "    [gpt4o_bleu_scores['Hindi'], gpt4o_bleu_scores['Malayalam'], gpt4o_bleu_scores['Tamil'], gpt4o_bleu_scores['Kannada']]\n",
    "]\n",
    "\n",
    "meteor_scores = [\n",
    "    [llama_meteor_scores['Hindi'], llama_meteor_scores['Malayalam'], llama_meteor_scores['Tamil'], llama_meteor_scores['Kannada']],\n",
    "    [sarvam_meteor_scores['Hindi'], sarvam_meteor_scores['Malayalam'], sarvam_meteor_scores['Tamil'], sarvam_meteor_scores['Kannada']],\n",
    "    [gpt4o_meteor_scores['Hindi'], gpt4o_meteor_scores['Malayalam'], gpt4o_meteor_scores['Tamil'], gpt4o_meteor_scores['Kannada']]\n",
    "]\n",
    "\n",
    "rouge1_scores = [\n",
    "    [llama_rouge_scores['Hindi']['ROUGE-1'], llama_rouge_scores['Malayalam']['ROUGE-1'], llama_rouge_scores['Tamil']['ROUGE-1'], llama_rouge_scores['Kannada']['ROUGE-1']],\n",
    "    [sarvam_rouge_scores['Hindi']['ROUGE-1'], sarvam_rouge_scores['Malayalam']['ROUGE-1'], sarvam_rouge_scores['Tamil']['ROUGE-1'], sarvam_rouge_scores['Kannada']['ROUGE-1']],\n",
    "    [gpt4o_rouge_scores['Hindi']['ROUGE-1'], gpt4o_rouge_scores['Malayalam']['ROUGE-1'], gpt4o_rouge_scores['Tamil']['ROUGE-1'], gpt4o_rouge_scores['Kannada']['ROUGE-1']]\n",
    "]\n",
    "\n",
    "x = np.arange(len(languages))\n",
    "width = 0.22\n",
    "\n",
    "fig, axs = plt.subplots(1, 3, figsize=(18, 5), sharey=False)\n",
    "\n",
    "# BLEU\n",
    "for i, model in enumerate(models):\n",
    "    axs[0].bar(x + i*width, bleu_scores[i], width, label=model)\n",
    "axs[0].set_title('BLEU Score')\n",
    "axs[0].set_xticks(x + width)\n",
    "axs[0].set_xticklabels(languages)\n",
    "axs[0].legend()\n",
    "axs[0].set_ylabel('Score')\n",
    "\n",
    "# METEOR\n",
    "for i, model in enumerate(models):\n",
    "    axs[1].bar(x + i*width, meteor_scores[i], width, label=model)\n",
    "axs[1].set_title('METEOR Score')\n",
    "axs[1].set_xticks(x + width)\n",
    "axs[1].set_xticklabels(languages)\n",
    "axs[1].legend()\n",
    "axs[1].set_ylabel('Score')\n",
    "\n",
    "# ROUGE-1 F1\n",
    "for i, model in enumerate(models):\n",
    "    axs[2].bar(x + i*width, rouge1_scores[i], width, label=model)\n",
    "axs[2].set_title('ROUGE-1 F1 Score')\n",
    "axs[2].set_xticks(x + width)\n",
    "axs[2].set_xticklabels(languages)\n",
    "axs[2].legend()\n",
    "axs[2].set_ylabel('Score')\n",
    "\n",
    "plt.tight_layout()\n",
    "plt.show()\n"
   ]
  },
  {
   "cell_type": "code",
   "execution_count": 42,
   "id": "932dcfee",
   "metadata": {
    "vscode": {
     "languageId": "shellscript"
    }
   },
   "outputs": [
    {
     "name": "stdout",
     "output_type": "stream",
     "text": [
      " Language Sarvam BLEU Llama BLEU GPT-4o BLEU Sarvam METEOR Llama METEOR GPT-4o METEOR Sarvam ROUGE-1 Llama ROUGE-1 GPT-4o ROUGE-1\n",
      "    Hindi      0.1210     0.0733      0.1501        0.1753       0.2607        0.1748         0.1904        0.1632         0.2376\n",
      "Malayalam      0.0454     0.0198      0.0465        0.1753       0.0722        0.1748         0.1521        0.1545         0.1803\n",
      "    Tamil      0.0525     0.0242      0.0515        0.1753       0.0855        0.1748         0.1980        0.1760         0.2377\n",
      "  Kannada      0.0553     0.0251      0.0477        0.1753       0.0987        0.1748         0.2046        0.0636         0.2558\n"
     ]
    },
    {
     "name": "stderr",
     "output_type": "stream",
     "text": [
      "/var/folders/8w/vvk6gdlj70zgwp6z82ndv3lh0000gn/T/ipykernel_71079/2915080084.py:20: FutureWarning: DataFrame.applymap has been deprecated. Use DataFrame.map instead.\n",
      "  df[float_cols] = df[float_cols].applymap(lambda x: f\"{x:.4f}\")\n"
     ]
    }
   ],
   "source": [
    "import pandas as pd\n",
    "\n",
    "# Prepare data for the table\n",
    "data = {\n",
    "    \"Language\": [\"Hindi\", \"Malayalam\", \"Tamil\", \"Kannada\"],\n",
    "    \"Sarvam BLEU\": [sarvam_bleu_scores['Hindi'], sarvam_bleu_scores['Malayalam'], sarvam_bleu_scores['Tamil'], sarvam_bleu_scores['Kannada']],\n",
    "    \"Llama BLEU\": [llama_bleu_scores['Hindi'], llama_bleu_scores['Malayalam'], llama_bleu_scores['Tamil'], llama_bleu_scores['Kannada']],\n",
    "    \"GPT-4o BLEU\": [gpt4o_bleu_scores['Hindi'], gpt4o_bleu_scores['Malayalam'], gpt4o_bleu_scores['Tamil'], gpt4o_bleu_scores['Kannada']],\n",
    "    \"Sarvam METEOR\": [sarvam_meteor_scores['Hindi'], sarvam_meteor_scores['Malayalam'], sarvam_meteor_scores['Tamil'], sarvam_meteor_scores['Kannada']],\n",
    "    \"Llama METEOR\": [llama_meteor_scores['Hindi'], llama_meteor_scores['Malayalam'], llama_meteor_scores['Tamil'], llama_meteor_scores['Kannada']],\n",
    "    \"GPT-4o METEOR\": [gpt4o_meteor_scores['Hindi'], gpt4o_meteor_scores['Malayalam'], gpt4o_meteor_scores['Tamil'], gpt4o_meteor_scores['Kannada']],\n",
    "    \"Sarvam ROUGE-1\": [sarvam_rouge_scores['Hindi']['ROUGE-1'], sarvam_rouge_scores['Malayalam']['ROUGE-1'], sarvam_rouge_scores['Tamil']['ROUGE-1'], sarvam_rouge_scores['Kannada']['ROUGE-1']],\n",
    "    \"Llama ROUGE-1\": [llama_rouge_scores['Hindi']['ROUGE-1'], llama_rouge_scores['Malayalam']['ROUGE-1'], llama_rouge_scores['Tamil']['ROUGE-1'], llama_rouge_scores['Kannada']['ROUGE-1']],\n",
    "    \"GPT-4o ROUGE-1\": [gpt4o_rouge_scores['Hindi']['ROUGE-1'], gpt4o_rouge_scores['Malayalam']['ROUGE-1'], gpt4o_rouge_scores['Tamil']['ROUGE-1'], gpt4o_rouge_scores['Kannada']['ROUGE-1']]\n",
    "}\n",
    "\n",
    "df = pd.DataFrame(data)\n",
    "# Format float columns for neatness\n",
    "float_cols = df.columns.drop(\"Language\")\n",
    "df[float_cols] = df[float_cols].applymap(lambda x: f\"{x:.4f}\")\n",
    "print(df.to_string(index=False))"
   ]
  }
 ],
 "metadata": {
  "kernelspec": {
   "display_name": "myenv",
   "language": "python",
   "name": "python3"
  },
  "language_info": {
   "codemirror_mode": {
    "name": "ipython",
    "version": 3
   },
   "file_extension": ".py",
   "mimetype": "text/x-python",
   "name": "python",
   "nbconvert_exporter": "python",
   "pygments_lexer": "ipython3",
   "version": "3.13.5"
  }
 },
 "nbformat": 4,
 "nbformat_minor": 5
}
