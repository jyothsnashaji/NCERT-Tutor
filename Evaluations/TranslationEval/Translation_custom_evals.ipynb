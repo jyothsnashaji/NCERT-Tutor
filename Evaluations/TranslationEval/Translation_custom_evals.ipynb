{
 "cells": [
  {
   "cell_type": "markdown",
   "id": "3ec9d857",
   "metadata": {},
   "source": [
    "# Evaluation for Translation Models"
   ]
  },
  {
   "cell_type": "markdown",
   "id": "927aafe9",
   "metadata": {},
   "source": [
    "## DataSet\n",
    "\n",
    "1. Hindi to English Translation Benchmark Dataset\n",
    "2. Tamil to English Translation Benchmark Dataset\n",
    "3. English to Kannada Translation Benchmark Dataset\n",
    "4. Malayalam to English Translation Benchmark Dataset\n",
    "\n",
    "Source organisation:  Digital India BHASHINI Division\n",
    "\n",
    "Site: https://aikosh.indiaai.gov.in/web/datasets/ \n",
    "\n",
    "License : CC BY-SA 4.0\n",
    "\n",
    "About Datasets: \n",
    "The datasets provides news test references for Machine Translation (MT) evaluation, focusing on translations from Indian languages to English. \n",
    "As part of a comprehensive collection supporting translations into 128 target languages, this dataset includes document-level information, making it a valuable resource for multilingual MT benchmarking. Designed for the news domain, it facilitates the evaluation of translation quality and supports the development of robust translation systems. Submitted by Microsoft, this dataset is essential for researchers and developers working on translation tasks."
   ]
  },
  {
   "cell_type": "markdown",
   "id": "e2750cfe",
   "metadata": {},
   "source": [
    "#### Load Data"
   ]
  },
  {
   "cell_type": "code",
   "execution_count": 44,
   "id": "198f50ae",
   "metadata": {},
   "outputs": [
    {
     "name": "stdout",
     "output_type": "stream",
     "text": [
      "\n",
      "scert_chemistry_englist_to_malayalam.json (showing 10 entries):\n",
      "{'sourceText': 'Aluminium is manufactured by the reduction of alumina using electricity as reducing agent since the reactivity of aluminum is very high.', 'targetText': 'അലുമിനിയത്തിനു ക്രിയാശീലം വളരെ കൂടുതലായതിനാൽ അലുമിനിയെ  വൈദ്യുതി ഉപയോഗിച് നിരോസ്ക്സികരിച്ചാണ് അലൂമിനിയം നിർമിക്കുന്നത്'}\n",
      "{'sourceText': 'The process of obtaining a coating of one metal over another metal using electrolysis is known as electro plating.', 'targetText': 'വൈദ്യുത വിശ്ലേഷണം വഴി ഒരു ലോഹത്തിന് മേൽ മറ്റൊരു ലോഹം ആവരണം ചെയ്\\u200cതെടുക്കുന്ന രീതിയാണ് എലെക്ട്രോപ്ലേറ്റിംഗ്'}\n",
      "{'sourceText': 'Sodium chloride in solid state is not an electrical conductor because its ions have no freedom of movement', 'targetText': 'ഖരാവസ്ഥയിലുള്ള സോഡിയം ക്ലോറൈഡ് വൈദ്യുതി വാഹിയല്ല , കാരണം ഇതിൽ ഈയോൺസിന് ചലന സ്വാതത്ര്യം ഇല്ല'}\n",
      "{'sourceText': 'Galvanic cell is an arrangement in which the difference in reactivity of metals is used to produce electricity', 'targetText': 'ക്രിയാശീലത്തിലുള്ള ഈ വ്യത്യാസം പ്രയോജനപ്പെടുത്തി വൈദ്യുതി നിർമിക്കാൻ ഉപയോഗിക്കുന്ന സംവിധാനം ആണ് ഗാൽവാനിക് സെൽ'}\n",
      "{'sourceText': 'If the temperature and pressure are kept constant how can we increase the volume?', 'targetText': 'താപനിലയും മർദ്ദവും സ്ഥിരമാണെങ്കിൽ വ്യാപ്തം വർധിപ്പിക്കാൻ എന്താണു മാർഗം?'}\n",
      "{'sourceText': 'The space occupied by a substance is known as its volume.', 'targetText': 'ഒരു പദാർത്ഥത്തിനു സ്ഥിതി ചെയ്യാൻ ആവശ്യം ആയ സ്ഥലത്തിന്റെ അളവിനെയാണു അതിന്റെ വ്യാപ്തം എന്ന് പറയുന്നത്'}\n",
      "{'sourceText': 'When a ray of light entering obliquely from one transparent medium to another, its path undergoes a deviation at the surface of separation. This is refraction.', 'targetText': 'ഇത്തരത്തിൽ ഒരു സുതാര്യ മാധ്യമത്തിൽ നിന്ന് പ്രകാശിക സാന്ദ്രതയിൽ വ്യത്യാസമുള്ള മറ്റൊരു മാധ്യമത്തിലേക്കു പ്രകാശം ചരിഞ്ഞു പതിക്കുമ്പോൾ മാധ്യമങ്ങളുടെ വിഭജന തലത്തിൽ വെച്ച് അതിന്റെ പാതയ്ക്കു വ്യതിയാനം സംഭവിക്കുന്നു. ഇതാണ് അപവർത്തനം.'}\n",
      "{'sourceText': 'Far point is the farthest point at which the objects can be seen distinctly. The far point of an eye with healthy vision is at infinity.', 'targetText': 'ഒരു വസ്തുവിനെ വ്യക്തമായി കാണാൻ കഴിയുന്ന ഏറ്റവും അകലെയുള്ള ബിന്ദുവാണ് ഫാർ പോയിന്റ് . ഈ ദൂരം അനന്തമായി കണക്കാക്കപ്പെടുന്നു. '}\n",
      "{'sourceText': 'Focal length is the distance from the optic centre to the principal focus.', 'targetText': 'പ്രകാശികകേന്ദ്രത്തിൽ നിന്ന് മുഖ്യ ഫോക്കസിലേക്കുള്ള ദൂരമാണ് ഫോക്കസ് ദൂരം '}\n",
      "{'sourceText': 'Fuels burn with the help of oxygen.', 'targetText': 'ഇന്ധനങ്ങൾ ജ്വലിക്കുന്നത് ഓക്\\u200cസിജന്റെ സഹായത്താലാണ്'}\n",
      "scert_chemistry_englist_to_malayalam.json: 10 samples\n"
     ]
    }
   ],
   "source": [
    "import json\n",
    "import os\n",
    "\n",
    "# Define the paths to the JSON files\n",
    "dataset_dir = \"Datasets\"\n",
    "json_files = [\n",
    "    \"scert_chemistry_englist_to_malayalam.json\"\n",
    "]\n",
    "\n",
    "# Read and store the data from each JSON file\n",
    "datasets = {}\n",
    "for filename in json_files:\n",
    "    path = os.path.join(dataset_dir, filename)\n",
    "    with open(path, 'r', encoding='utf-8') as f:\n",
    "        datasets[filename] = json.load(f)\n",
    "\n",
    "# Example: print the number of samples in each dataset\n",
    "\n",
    "for name, data in datasets.items():\n",
    "    print(f\"\\n{name} (showing 10 entries):\")\n",
    "    for entry in data[:10]:\n",
    "        print(entry)\n",
    "    print(f\"{name}: {len(data)} samples\")"
   ]
  },
  {
   "cell_type": "code",
   "execution_count": 45,
   "id": "d41048ce",
   "metadata": {
    "vscode": {
     "languageId": "ruby"
    }
   },
   "outputs": [
    {
     "name": "stdout",
     "output_type": "stream",
     "text": [
      "Total English sentences: 10\n",
      "Total Malayalam sentences: 10\n"
     ]
    }
   ],
   "source": [
    "# Create lists to store sentences\n",
    "malayalam_sentences = []\n",
    "english_sentences = []\n",
    "\n",
    "# Track already added English sentences\n",
    "english_seen = set()\n",
    "\n",
    "for file in json_files:\n",
    "    data = datasets[file]\n",
    "    src_lang = \"English\"\n",
    "    tgt_lang = \"Malayalam\" \n",
    "    for entry in data:\n",
    "        english_sentences.append(entry['sourceText'])\n",
    "        english_seen.add(entry['sourceText'])\n",
    "        malayalam_sentences.append(entry['targetText'])\n",
    "\n",
    "print(f\"Total English sentences: {len(english_sentences)}\")\n",
    "print(f\"Total Malayalam sentences: {len(malayalam_sentences)}\")\n"
   ]
  },
  {
   "cell_type": "markdown",
   "id": "855e4f61",
   "metadata": {},
   "source": [
    "### Evaluate with Llama Model"
   ]
  },
  {
   "cell_type": "code",
   "execution_count": 46,
   "id": "ed53824b",
   "metadata": {},
   "outputs": [],
   "source": [
    "### Load Model \n",
    "import groq\n",
    "from langchain_groq import ChatGroq\n",
    "\n",
    "groq_api_key = os.getenv(\"GROQ_API_KEY\")\n",
    "if not groq_api_key:\n",
    "    raise ValueError(\"Please set the GROQ_API_KEY environment variable.\")\n",
    "\n",
    "# Setup re-ranking\n",
    "llm = ChatGroq(\n",
    "    groq_api_key=groq_api_key,\n",
    "    model=\"llama3-8b-8192\"\n",
    ")"
   ]
  },
  {
   "cell_type": "code",
   "execution_count": 47,
   "id": "a526282e",
   "metadata": {},
   "outputs": [
    {
     "name": "stdout",
     "output_type": "stream",
     "text": [
      "\n",
      "Llama Translations (showing 3 entries):\n",
      "English: Aluminium is manufactured by the reduction of alumina using electricity as reducing agent since the reactivity of aluminum is very high.\n",
      "Malayalam: അലുമിനിയം അലുമിനയും വൈദ്യുതിയും ഉപയോഗിച്ച് ഉത്പാദിപ്പിക്കുന്നു, കാരണം അലുമിനിയത്തിന്റെ രാസ സമ്പത്ത് വളരെ ഉയർന്നതാണ്.\n",
      "English: The process of obtaining a coating of one metal over another metal using electrolysis is known as electro plating.\n",
      "Malayalam: ഒരു മീറ്റലിനെ മറ്റൊരു മീറ്റലിനെ കീരിയോളിറ്റ്രോസിസ് മൂലം ലഭിക്കുന്ന പ്രക്രിയയെ \"ഇലക്ട്രോ പ്ലേറ്റിംഗ്\" എന്നാണ് അറിയപ്പെടുന്നത്.\n",
      "English: Sodium chloride in solid state is not an electrical conductor because its ions have no freedom of movement\n",
      "Malayalam: സോഡിയം ക്ലോറൈഡ് സാന്ദ്രസ്ഥിതിയിലുള്ളത് വൈദ്യുത സാന്ദ്രസ്ഥിതിയില്ലാത്തത് കാരണം അതിന്റെ ഐയൺമാർ സ്ഥിരസ്ഥാനത്തിലുള്ളതിനാൽ സ്ഥിരസ്ഥാനത്തിലുള്ളതിനാൽ സ്ഥിരസ്\n"
     ]
    }
   ],
   "source": [
    "# Define a function to translate English text to a given target language using the Groq Llama model\n",
    "# Add instruction to the prompt for concise output\n",
    "def llama_translate(text, target_lang):\n",
    "    prompt = (\n",
    "        f\"Translate the following English sentence to {target_lang}.\\n\"\n",
    "        f\"Just give answer in target language without any extra explanations.\\n\"\n",
    "        f\"English: {text}\\n\"\n",
    "        f\"{target_lang.capitalize()}:\"\n",
    "    )\n",
    "    try:\n",
    "        response = llm.invoke(prompt)\n",
    "        return response.content.strip()\n",
    "    except Exception as e:\n",
    "        print(f\"Error translating to {target_lang}: {e}\")\n",
    "        return None\n",
    "\n",
    "# Prepare lists to store translations\n",
    "llama_malayalam = []\n",
    "\n",
    "# Use only the first 100 samples for translation\n",
    "for text in english_sentences[:100]:\n",
    "    llama_malayalam.append(llama_translate(text, \"malayalam\"))\n",
    "\n",
    "# Print the first 10 translations for each language\n",
    "print(\"\\nLlama Translations (showing 3 entries):\")\n",
    "for i in range(3):\n",
    "    print(f\"English: {english_sentences[i]}\")\n",
    "    print(f\"Malayalam: {llama_malayalam[i]}\")"
   ]
  },
  {
   "cell_type": "code",
   "execution_count": 48,
   "id": "de37be39",
   "metadata": {},
   "outputs": [],
   "source": [
    "from nltk.translate.bleu_score import sentence_bleu, SmoothingFunction\n",
    "\n",
    "llama_languages = [\n",
    "    (\"Malayalam\", malayalam_sentences, llama_malayalam),\n",
    "]"
   ]
  },
  {
   "cell_type": "markdown",
   "id": "71ec8df1",
   "metadata": {},
   "source": [
    "### Llama BLEU"
   ]
  },
  {
   "cell_type": "code",
   "execution_count": 49,
   "id": "afbaf75e",
   "metadata": {},
   "outputs": [
    {
     "name": "stdout",
     "output_type": "stream",
     "text": [
      "Average BLEU score for Malayalam: 0.0192\n",
      "\n",
      "Llama's overall average BLEU score across all languages: 0.0192\n"
     ]
    }
   ],
   "source": [
    "\n",
    "\n",
    "llama_bleu_scores = {}\n",
    "\n",
    "smoothie = SmoothingFunction().method4\n",
    "\n",
    "for lang_name, ref_list, cand_list in llama_languages:\n",
    "    references = [[ref_list[i].split()] for i in range(len(cand_list))]\n",
    "    candidates = [cand_list[i].split() for i in range(len(cand_list))]\n",
    "    bleu_scores = [sentence_bleu(references[i], candidates[i], smoothing_function=smoothie) for i in range(len(candidates))]\n",
    "    avg_score = sum(bleu_scores) / len(bleu_scores) if bleu_scores else 0\n",
    "    llama_bleu_scores[lang_name] = avg_score\n",
    "    # print(f\"\\n{lang_name} BLEU scores:\")\n",
    "    # for idx, score in enumerate(bleu_scores):\n",
    "    #     print(f\"Reference {idx+1}: {' '.join(references[idx][0])}\")\n",
    "    #     print(f\"Candidate {idx+1}: {' '.join(candidates[idx])}\")\n",
    "    #     # print(f\"BLEU score: {score:.4f}\\n\")\n",
    "    print(f\"Average BLEU score for {lang_name}: {avg_score:.4f}\")\n",
    "\n",
    "# Save overall average BLEU score for llama translations\n",
    "llama_average_bleu = sum(llama_bleu_scores.values()) / len(llama_bleu_scores)\n",
    "print(f\"\\nLlama's overall average BLEU score across all languages: {llama_average_bleu:.4f}\")\n",
    "\n"
   ]
  },
  {
   "cell_type": "markdown",
   "id": "95d33d8a",
   "metadata": {},
   "source": [
    "### Llama METEOR"
   ]
  },
  {
   "cell_type": "code",
   "execution_count": 50,
   "id": "aae26ccc",
   "metadata": {},
   "outputs": [
    {
     "name": "stdout",
     "output_type": "stream",
     "text": [
      "Average meteor_scores score for Malayalam: 0.0630\n",
      "\n",
      "Llama's overall average METEOR score across all languages: 0.0630\n"
     ]
    }
   ],
   "source": [
    "from nltk.translate.meteor_score import meteor_score\n",
    "\n",
    "def tokenize(text):\n",
    "    return nltk.word_tokenize(text)\n",
    "\n",
    "llama_meteor_scores = {}\n",
    "\n",
    "for lang_name, ref_list, cand_list in llama_languages:\n",
    "    references = [[ref_list[i].split()] for i in range(len(cand_list))]\n",
    "    candidates = [cand_list[i].split() for i in range(len(cand_list))]\n",
    "    meteor_scores = [meteor_score(references[i], candidates[i]) for i in range(len(candidates))]\n",
    "    avg_score = sum(meteor_scores) / len(meteor_scores) if meteor_scores else 0\n",
    "    llama_meteor_scores[lang_name] = avg_score\n",
    "    # print(f\"\\n{lang_name} Meteor scores:\")\n",
    "    # for idx, score in enumerate(meteor_scores):\n",
    "    #     print(f\"Reference {idx+1}: {' '.join(references[idx][0])}\")\n",
    "    #     print(f\"Candidate {idx+1}: {' '.join(candidates[idx])}\")\n",
    "    #     print(f\"meteor_scores score: {score:.4f}\\n\")\n",
    "    print(f\"Average meteor_scores score for {lang_name}: {avg_score:.4f}\")\n",
    "\n",
    "# Save overall average BLEU score for llama translations\n",
    "llama_average_meteor = sum(llama_meteor_scores.values()) / len(llama_meteor_scores)\n",
    "print(f\"\\nLlama's overall average METEOR score across all languages: {llama_average_meteor:.4f}\")  "
   ]
  },
  {
   "cell_type": "markdown",
   "id": "dc7e3ce4",
   "metadata": {},
   "source": [
    "### Llama ROGUE"
   ]
  },
  {
   "cell_type": "code",
   "execution_count": 51,
   "id": "1ed9137b",
   "metadata": {},
   "outputs": [
    {
     "name": "stdout",
     "output_type": "stream",
     "text": [
      "\n",
      "Malayalam ROUGE Scores (GPT-4o):\n",
      "  ROUGE-1 F1: 0.0000\n",
      "  ROUGE-2 F1: 0.0000\n",
      "  ROUGE-L F1: 0.0000\n",
      "\n",
      "GPT-4o's overall average ROUGE-1 F1: 0.0000\n",
      "GPT-4o's overall average ROUGE-2 F1: 0.0000\n",
      "GPT-4o's overall average ROUGE-L F1: 0.0000\n"
     ]
    }
   ],
   "source": [
    "from rouge_score import rouge_scorer\n",
    "\n",
    "# Evaluate ROUGE scores for all languages and print each separately for GPT-4o\n",
    "llama_rouge_scores = {}\n",
    "\n",
    "for lang_name, ref_list, cand_list in llama_languages:\n",
    "    # Use only the first N samples for fair comparison (N = len(cand_list))\n",
    "    references = ref_list[:len(cand_list)]\n",
    "    candidates = cand_list\n",
    "    scorer = rouge_scorer.RougeScorer(['rouge1', 'rouge2', 'rougeL'], use_stemmer=True)\n",
    "    rouge1_scores, rouge2_scores, rougeL_scores = [], [], []\n",
    "    for ref, cand in zip(references, candidates):\n",
    "        scores = scorer.score(ref, cand)\n",
    "        rouge1_scores.append(scores['rouge1'].fmeasure)\n",
    "        rouge2_scores.append(scores['rouge2'].fmeasure)\n",
    "        rougeL_scores.append(scores['rougeL'].fmeasure)\n",
    "    avg_rouge1 = sum(rouge1_scores) / len(rouge1_scores)\n",
    "    avg_rouge2 = sum(rouge2_scores) / len(rouge2_scores)\n",
    "    avg_rougeL = sum(rougeL_scores) / len(rougeL_scores)\n",
    "    llama_rouge_scores[lang_name] = {\n",
    "        'ROUGE-1': avg_rouge1,\n",
    "        'ROUGE-2': avg_rouge2,\n",
    "        'ROUGE-L': avg_rougeL\n",
    "    }\n",
    "    print(f\"\\n{lang_name} ROUGE Scores (GPT-4o):\")\n",
    "    print(f\"  ROUGE-1 F1: {avg_rouge1:.4f}\")\n",
    "    print(f\"  ROUGE-2 F1: {avg_rouge2:.4f}\")\n",
    "    print(f\"  ROUGE-L F1: {avg_rougeL:.4f}\")\n",
    "\n",
    "# Optionally, print overall averages\n",
    "avg_rouge1_all = sum([v['ROUGE-1'] for v in llama_rouge_scores.values()]) / len(llama_rouge_scores)\n",
    "avg_rouge2_all = sum([v['ROUGE-2'] for v in llama_rouge_scores.values()]) / len(llama_rouge_scores)\n",
    "avg_rougeL_all = sum([v['ROUGE-L'] for v in llama_rouge_scores.values()]) / len(llama_rouge_scores)\n",
    "print(f\"\\nGPT-4o's overall average ROUGE-1 F1: {avg_rouge1_all:.4f}\")\n",
    "print(f\"GPT-4o's overall average ROUGE-2 F1: {avg_rouge2_all:.4f}\")\n",
    "print(f\"GPT-4o's overall average ROUGE-L F1: {avg_rougeL_all:.4f}\")"
   ]
  },
  {
   "cell_type": "markdown",
   "id": "b6e06ef0",
   "metadata": {},
   "source": [
    "## OpenAI Evaluation"
   ]
  },
  {
   "cell_type": "code",
   "execution_count": 52,
   "id": "86a6b974",
   "metadata": {},
   "outputs": [],
   "source": [
    "import os\n",
    "from openai import OpenAI  # the new client entrypoint\n",
    "\n",
    "# Initialize the client once\n",
    "client = OpenAI(api_key=os.getenv(\"OPENAI_API_KEY\"))\n",
    "if not client.api_key:\n",
    "    raise ValueError(\"Please set the OPENAI_API_KEY environment variable.\")\n",
    "\n",
    "def gpt4o_translate(text: str, target_lang: str) -> str | None:\n",
    "    prompt = (\n",
    "        f\"Translate the following English sentence to {target_lang}.\\n\"\n",
    "        \"Just give the answer in the target language without any extra explanations.\\n\"\n",
    "        f\"English: {text}\\n\"\n",
    "        f\"{target_lang.capitalize()}:\"\n",
    "    )\n",
    "\n",
    "    try:\n",
    "        # call the chat completion endpoint\n",
    "        response = client.chat.completions.create(\n",
    "            model=\"gpt-4o-mini\",\n",
    "            messages=[{\"role\": \"user\", \"content\": prompt}],\n",
    "            max_tokens=256,\n",
    "            temperature=0.2,\n",
    "        )\n",
    "        # pull out the actual translated text\n",
    "        return response.choices[0].message.content.strip()\n",
    "\n",
    "    except Exception as e:\n",
    "        print(f\"Error translating to {target_lang}: {e}\")\n",
    "        return None\n"
   ]
  },
  {
   "cell_type": "code",
   "execution_count": 53,
   "id": "d7edd3dc",
   "metadata": {},
   "outputs": [
    {
     "name": "stdout",
     "output_type": "stream",
     "text": [
      "\n",
      "GPT-4o-mini Translations (showing 3 entries):\n",
      "English: Aluminium is manufactured by the reduction of alumina using electricity as reducing agent since the reactivity of aluminum is very high.\n",
      "Malayalam: അലുമിനിയം ഉൽപ്പാദിപ്പിക്കുന്നത് അലുമിനയുടെ കുറവുപയോഗിച്ച് വൈദ്യുതി കുറവായ ഏജന്റായി ഉപയോഗിച്ച് ആണ്, കാരണം അലുമിനിയത്തിന്റെ പ്രതികരണശേഷി വളരെ ഉയർന്നതാണ്.\n",
      "English: The process of obtaining a coating of one metal over another metal using electrolysis is known as electro plating.\n",
      "Malayalam: ഇലക്ട്രോലൈസിസ് ഉപയോഗിച്ച് ഒരു ലോഹത്തിന്റെ മേൽ മറ്റൊരു ലോഹത്തിന്റെ കോറ്റിംഗ് നേടുന്ന പ്രക്രിയയെ ഇലക്ട്രോ പ്ലേറ്റിംഗ് എന്ന് അറിയുന്നു.\n",
      "English: Sodium chloride in solid state is not an electrical conductor because its ions have no freedom of movement\n",
      "Malayalam: സോഡിയം ക്ലോറൈഡ് ഉറച്ച അവസ്ഥയിൽ വൈദ്യുത ചാലകമല്ല, കാരണം അതിന്റെ അയോണുകൾ ചലനത്തിന്റെ സ്വാതന്ത്ര്യം ഇല്ല.\n"
     ]
    }
   ],
   "source": [
    "# Translate first 100 English sentences to all target languages using GPT-4o-mini\n",
    "gpt4o_malayalam = []\n",
    "\n",
    "for text in english_sentences[:100]:\n",
    "    gpt4o_malayalam.append(gpt4o_translate(text, \"malayalam\"))\n",
    "\n",
    "# Print the first 3 translations for each language\n",
    "print(\"\\nGPT-4o-mini Translations (showing 3 entries):\")\n",
    "for i in range(3):\n",
    "    print(f\"English: {english_sentences[i]}\")\n",
    "    print(f\"Malayalam: {gpt4o_malayalam[i]}\")\n"
   ]
  },
  {
   "cell_type": "code",
   "execution_count": 54,
   "id": "8edc7f37",
   "metadata": {},
   "outputs": [
    {
     "name": "stdout",
     "output_type": "stream",
     "text": [
      "Average BLEU score for Malayalam: 0.0391\n",
      "\n",
      "GPT-4o's overall average BLEU score across all languages: 0.0391\n"
     ]
    }
   ],
   "source": [
    "from nltk.translate.bleu_score import sentence_bleu, SmoothingFunction\n",
    "\n",
    "gpt4o_languages = [\n",
    "    (\"Malayalam\", malayalam_sentences, gpt4o_malayalam)\n",
    "]\n",
    "\n",
    "gpt4o_bleu_scores = {}\n",
    "smoothie = SmoothingFunction().method4\n",
    "\n",
    "for lang_name, ref_list, cand_list in gpt4o_languages:\n",
    "    references = [[ref_list[i].split()] for i in range(len(cand_list))]\n",
    "    candidates = [cand_list[i].split() for i in range(len(cand_list))]\n",
    "    bleu_scores = [sentence_bleu(references[i], candidates[i], smoothing_function=smoothie) for i in range(len(candidates))]\n",
    "    avg_score = sum(bleu_scores) / len(bleu_scores) if bleu_scores else 0\n",
    "    gpt4o_bleu_scores[lang_name] = avg_score\n",
    "    print(f\"Average BLEU score for {lang_name}: {avg_score:.4f}\")\n",
    "\n",
    "gpt4o_average_bleu = sum(gpt4o_bleu_scores.values()) / len(gpt4o_bleu_scores)\n",
    "print(f\"\\nGPT-4o's overall average BLEU score across all languages: {gpt4o_average_bleu:.4f}\")"
   ]
  },
  {
   "cell_type": "code",
   "execution_count": 55,
   "id": "9e8ff8a9",
   "metadata": {},
   "outputs": [
    {
     "name": "stdout",
     "output_type": "stream",
     "text": [
      "\n",
      "Malayalam METEOR scores:\n",
      "Average METEOR score for Malayalam: 0.1597\n",
      "\n",
      "gpt4o's overall average METEOR score across all languages: 0.1597\n"
     ]
    }
   ],
   "source": [
    "from nltk.translate.meteor_score import meteor_score\n",
    "\n",
    "def tokenize(text):\n",
    "    return nltk.word_tokenize(text)\n",
    "\n",
    "gpt4o_meteor_scores = {}\n",
    "\n",
    "for lang_name, ref_list, cand_list in gpt4o_languages:\n",
    "    meteor_scores = [meteor_score(references[i], candidates[i]) for i in range(len(candidates))]    \n",
    "    avg_score = sum(meteor_scores) / len(meteor_scores) if meteor_scores else 0\n",
    "    gpt4o_meteor_scores[lang_name] = avg_score\n",
    "    print(f\"\\n{lang_name} METEOR scores:\")\n",
    "    print(f\"Average METEOR score for {lang_name}: {avg_score:.4f}\")\n",
    "\n",
    "gpt4o_average_meteor = sum(gpt4o_meteor_scores.values()) / len(gpt4o_meteor_scores)\n",
    "print(f\"\\ngpt4o's overall average METEOR score across all languages: {gpt4o_average_meteor:.4f}\")\n",
    "\n"
   ]
  },
  {
   "cell_type": "code",
   "execution_count": 56,
   "id": "dd53ebe2",
   "metadata": {},
   "outputs": [
    {
     "name": "stdout",
     "output_type": "stream",
     "text": [
      "\n",
      "Malayalam ROUGE Scores (GPT-4o):\n",
      "  ROUGE-1 F1: 0.0000\n",
      "  ROUGE-2 F1: 0.0000\n",
      "  ROUGE-L F1: 0.0000\n",
      "\n",
      "GPT-4o's overall average ROUGE-1 F1: 0.0000\n",
      "GPT-4o's overall average ROUGE-2 F1: 0.0000\n",
      "GPT-4o's overall average ROUGE-L F1: 0.0000\n"
     ]
    }
   ],
   "source": [
    "from rouge_score import rouge_scorer\n",
    "\n",
    "# Evaluate ROUGE scores for all languages and print each separately for GPT-4o\n",
    "gpt4o_rouge_scores = {}\n",
    "\n",
    "for lang_name, ref_list, cand_list in gpt4o_languages:\n",
    "    # Use only the first N samples for fair comparison (N = len(cand_list))\n",
    "    references = ref_list[:len(cand_list)]\n",
    "    candidates = cand_list\n",
    "    scorer = rouge_scorer.RougeScorer(['rouge1', 'rouge2', 'rougeL'], use_stemmer=True)\n",
    "    rouge1_scores, rouge2_scores, rougeL_scores = [], [], []\n",
    "    for ref, cand in zip(references, candidates):\n",
    "        scores = scorer.score(ref, cand)\n",
    "        rouge1_scores.append(scores['rouge1'].fmeasure)\n",
    "        rouge2_scores.append(scores['rouge2'].fmeasure)\n",
    "        rougeL_scores.append(scores['rougeL'].fmeasure)\n",
    "    avg_rouge1 = sum(rouge1_scores) / len(rouge1_scores)\n",
    "    avg_rouge2 = sum(rouge2_scores) / len(rouge2_scores)\n",
    "    avg_rougeL = sum(rougeL_scores) / len(rougeL_scores)\n",
    "    gpt4o_rouge_scores[lang_name] = {\n",
    "        'ROUGE-1': avg_rouge1,\n",
    "        'ROUGE-2': avg_rouge2,\n",
    "        'ROUGE-L': avg_rougeL\n",
    "    }\n",
    "    print(f\"\\n{lang_name} ROUGE Scores (GPT-4o):\")\n",
    "    print(f\"  ROUGE-1 F1: {avg_rouge1:.4f}\")\n",
    "    print(f\"  ROUGE-2 F1: {avg_rouge2:.4f}\")\n",
    "    print(f\"  ROUGE-L F1: {avg_rougeL:.4f}\")\n",
    "\n",
    "# Optionally, print overall averages\n",
    "avg_rouge1_all = sum([v['ROUGE-1'] for v in gpt4o_rouge_scores.values()]) / len(gpt4o_rouge_scores)\n",
    "avg_rouge2_all = sum([v['ROUGE-2'] for v in gpt4o_rouge_scores.values()]) / len(gpt4o_rouge_scores)\n",
    "avg_rougeL_all = sum([v['ROUGE-L'] for v in gpt4o_rouge_scores.values()]) / len(gpt4o_rouge_scores)\n",
    "print(f\"\\nGPT-4o's overall average ROUGE-1 F1: {avg_rouge1_all:.4f}\")\n",
    "print(f\"GPT-4o's overall average ROUGE-2 F1: {avg_rouge2_all:.4f}\")\n",
    "print(f\"GPT-4o's overall average ROUGE-L F1: {avg_rougeL_all:.4f}\")"
   ]
  },
  {
   "cell_type": "markdown",
   "id": "5b70d201",
   "metadata": {},
   "source": [
    "### Sarvam API Evaluation"
   ]
  },
  {
   "cell_type": "code",
   "execution_count": 57,
   "id": "cf094d11",
   "metadata": {},
   "outputs": [
    {
     "name": "stdout",
     "output_type": "stream",
     "text": [
      "✅ Sarvam AI client initialized\n"
     ]
    }
   ],
   "source": [
    "# Import SarvamAI client class (make sure the SarvamAI SDK is installed and imported correctly)\n",
    "from sarvamai import SarvamAI  # Adjust import based on actual SDK\n",
    "\n",
    "# Your Sarvam API key\n",
    "sarvam_api_key = os.getenv(\"SARVAM_API_KEY\")  # Replace with your actual API key\n",
    "\n",
    "# Initialize SarvamAI client globally\n",
    "try:\n",
    "    sarvam_client = SarvamAI(api_subscription_key=sarvam_api_key)\n",
    "    print(\"✅ Sarvam AI client initialized\")\n",
    "except Exception as e:\n",
    "    print(f\"Error initializing Sarvam AI client: {e}\")\n",
    "    sarvam_client = None  # Set client to None if initialization fails\n",
    "\n",
    "def sarvam_translate(text, target_lang_code=\"hi-IN\"):\n",
    "    \"\"\"\n",
    "    Translate input text from English (en-IN) to target language using Sarvam API.\n",
    "    \"\"\"\n",
    "    if sarvam_client is None:\n",
    "        raise RuntimeError(\"Sarvam AI client is not initialized.\")\n",
    "    \n",
    "    try:\n",
    "        response = sarvam_client.text.translate(\n",
    "            input=text,\n",
    "            source_language_code=\"en-IN\",  # Assuming source is English (India)\n",
    "            target_language_code=target_lang_code,\n",
    "            speaker_gender=\"Male\",         # Default as per examples\n",
    "            mode=\"formal\",                 # sarvam-translate:v1 supports formal mode only\n",
    "            enable_preprocessing=False     # As per notebook examples\n",
    "            # numerals_format=\"international\"  # Optional parameter if needed\n",
    "        )\n",
    "        return response.translated_text\n",
    "    except Exception as e:\n",
    "        print(f\"Translation error: {e}\")\n",
    "        return None"
   ]
  },
  {
   "cell_type": "code",
   "execution_count": 58,
   "id": "520e0ef3",
   "metadata": {},
   "outputs": [
    {
     "name": "stdout",
     "output_type": "stream",
     "text": [
      "\n",
      "Sarvam Translations (showing 3 entries):\n",
      "English: Aluminium is manufactured by the reduction of alumina using electricity as reducing agent since the reactivity of aluminum is very high.\n",
      "Malayalam: അലുമിനിയത്തിന്‍റെ പ്രതിപ്രവർത്തനക്ഷമത വളരെ കൂടുതലായതിനാൽ അലുമിനയെ കുറയ്ക്കുന്നതിനുള്ള ഏജന്‍റായി വൈദ്യുതി ഉപയോഗിച്ചുകൊണ്ട് അലുമിനിയം നിർമ്മിക്കുന്നു.\n",
      "English: The process of obtaining a coating of one metal over another metal using electrolysis is known as electro plating.\n",
      "Malayalam: വൈദ്യുതവിശ്ലേഷണം ഉപയോഗിച്ച് ഒരു ലോഹത്തിന്മേൽ മറ്റൊന്നിനുമേൽ ഒരു പൂശൽ ലഭിക്കുന്ന പ്രക്രിയയെ ഇലക്ട്രോപ്ലേറ്റിംഗ് എന്ന് വിളിക്കുന്നു.\n",
      "English: Sodium chloride in solid state is not an electrical conductor because its ions have no freedom of movement\n",
      "Malayalam: ഖരരൂപത്തിലുള്ള സോഡിയം ക്ലോറൈഡ് ഒരു വൈദ്യുതവാഹകമല്ല, കാരണം അതിന്‍റെ അയോണുകൾക്ക് ചലനസ്വാതന്ത്ര്യമില്ല.\n"
     ]
    }
   ],
   "source": [
    "# Define Sarvam language codes for each target language\n",
    "sarvam_lang_codes = {\n",
    "    \"Malayalam\": \"ml-IN\",\n",
    "}\n",
    "\n",
    "# Prepare lists to store Sarvam translations\n",
    "sarvam_malayalam = []\n",
    "\n",
    "# Translate first 100 English sentences to all target languages using Sarvam\n",
    "for text in english_sentences[:100]:\n",
    "    sarvam_malayalam.append(sarvam_translate(text, sarvam_lang_codes[\"Malayalam\"]))\n",
    "\n",
    "# Print the first 3 translations for each language\n",
    "print(\"\\nSarvam Translations (showing 3 entries):\")\n",
    "for i in range(3):\n",
    "    print(f\"English: {english_sentences[i]}\")\n",
    "    print(f\"Malayalam: {sarvam_malayalam[i]}\")"
   ]
  },
  {
   "cell_type": "code",
   "execution_count": 59,
   "id": "4c95537f",
   "metadata": {},
   "outputs": [
    {
     "name": "stdout",
     "output_type": "stream",
     "text": [
      "Average BLEU score for Malayalam: 0.0442\n",
      "\n",
      "Sarvam's overall average BLEU score across all languages: 0.0442\n"
     ]
    }
   ],
   "source": [
    "from nltk.translate.bleu_score import sentence_bleu, SmoothingFunction\n",
    "\n",
    "# Prepare references and candidates for BLEU evaluation for Sarvam\n",
    "sarvam_languages = [\n",
    "    (\"Malayalam\", malayalam_sentences[:len(sarvam_malayalam)], sarvam_malayalam)\n",
    "]\n",
    "\n",
    "sarvam_bleu_scores = {}\n",
    "smoothie = SmoothingFunction().method4\n",
    "\n",
    "for lang_name, ref_list, cand_list in sarvam_languages:\n",
    "    references = [[ref_list[i].split()] for i in range(len(cand_list))]\n",
    "    candidates = [cand_list[i].split() for i in range(len(cand_list))]\n",
    "    bleu_scores = [sentence_bleu(references[i], candidates[i], smoothing_function=smoothie) for i in range(len(candidates))]\n",
    "    avg_score = sum(bleu_scores) / len(bleu_scores) if bleu_scores else 0\n",
    "    sarvam_bleu_scores[lang_name] = avg_score\n",
    "    print(f\"Average BLEU score for {lang_name}: {avg_score:.4f}\")\n",
    "\n",
    "sarvam_average_bleu = sum(sarvam_bleu_scores.values()) / len(sarvam_bleu_scores)\n",
    "print(f\"\\nSarvam's overall average BLEU score across all languages: {sarvam_average_bleu:.4f}\")"
   ]
  },
  {
   "cell_type": "code",
   "execution_count": 60,
   "id": "e9cb9481",
   "metadata": {},
   "outputs": [
    {
     "name": "stdout",
     "output_type": "stream",
     "text": [
      "\n",
      "Malayalam METEOR scores:\n",
      "Average METEOR score for Malayalam: 0.1827\n",
      "\n",
      "Llama's overall average METEOR score across all languages: 0.1827\n"
     ]
    }
   ],
   "source": [
    "from nltk.translate.meteor_score import meteor_score\n",
    "\n",
    "def tokenize(text):\n",
    "    return nltk.word_tokenize(text)\n",
    "\n",
    "sarvam_meteor_scores = {}\n",
    "\n",
    "for lang_name, ref_list, cand_list in sarvam_languages:\n",
    "    meteor_scores = [meteor_score(references[i], candidates[i]) for i in range(len(candidates))]    \n",
    "    avg_score = sum(meteor_scores) / len(meteor_scores) if meteor_scores else 0\n",
    "    sarvam_meteor_scores[lang_name] = avg_score\n",
    "    print(f\"\\n{lang_name} METEOR scores:\")\n",
    "    print(f\"Average METEOR score for {lang_name}: {avg_score:.4f}\")\n",
    "\n",
    "sarvam_average_meteor = sum(sarvam_meteor_scores.values()) / len(sarvam_meteor_scores)\n",
    "print(f\"\\nLlama's overall average METEOR score across all languages: {sarvam_average_meteor:.4f}\")\n",
    "\n"
   ]
  },
  {
   "cell_type": "code",
   "execution_count": 61,
   "id": "da745584",
   "metadata": {},
   "outputs": [
    {
     "name": "stdout",
     "output_type": "stream",
     "text": [
      "\n",
      "Malayalam ROUGE Scores (Sarvam):\n",
      "  ROUGE-1 F1: 0.0000\n",
      "  ROUGE-2 F1: 0.0000\n",
      "  ROUGE-L F1: 0.0000\n",
      "\n",
      "Sarvam's overall average ROUGE-1 F1: 0.0000\n",
      "Sarvam's overall average ROUGE-2 F1: 0.0000\n",
      "Sarvam's overall average ROUGE-L F1: 0.0000\n"
     ]
    }
   ],
   "source": [
    "from rouge_score import rouge_scorer\n",
    "\n",
    "# Evaluate ROUGE scores for all languages and print each separately for Sarvam\n",
    "sarvam_rouge_scores = {}\n",
    "\n",
    "for lang_name, ref_list, cand_list in sarvam_languages:\n",
    "    # Use only the first N samples for fair comparison (N = len(cand_list))\n",
    "    references = ref_list[:len(cand_list)]\n",
    "    candidates = cand_list\n",
    "    scorer = rouge_scorer.RougeScorer(['rouge1', 'rouge2', 'rougeL'], use_stemmer=True)\n",
    "    rouge1_scores, rouge2_scores, rougeL_scores = [], [], []\n",
    "    for ref, cand in zip(references, candidates):\n",
    "        scores = scorer.score(ref, cand)\n",
    "        rouge1_scores.append(scores['rouge1'].fmeasure)\n",
    "        rouge2_scores.append(scores['rouge2'].fmeasure)\n",
    "        rougeL_scores.append(scores['rougeL'].fmeasure)\n",
    "    avg_rouge1 = sum(rouge1_scores) / len(rouge1_scores)\n",
    "    avg_rouge2 = sum(rouge2_scores) / len(rouge2_scores)\n",
    "    avg_rougeL = sum(rougeL_scores) / len(rougeL_scores)\n",
    "    sarvam_rouge_scores[lang_name] = {\n",
    "        'ROUGE-1': avg_rouge1,\n",
    "        'ROUGE-2': avg_rouge2,\n",
    "        'ROUGE-L': avg_rougeL\n",
    "    }\n",
    "    print(f\"\\n{lang_name} ROUGE Scores (Sarvam):\")\n",
    "    print(f\"  ROUGE-1 F1: {avg_rouge1:.4f}\")\n",
    "    print(f\"  ROUGE-2 F1: {avg_rouge2:.4f}\")\n",
    "    print(f\"  ROUGE-L F1: {avg_rougeL:.4f}\")\n",
    "\n",
    "# Optionally, print overall averages\n",
    "avg_rouge1_all = sum([v['ROUGE-1'] for v in sarvam_rouge_scores.values()]) / len(sarvam_rouge_scores)\n",
    "avg_rouge2_all = sum([v['ROUGE-2'] for v in sarvam_rouge_scores.values()]) / len(sarvam_rouge_scores)\n",
    "avg_rougeL_all = sum([v['ROUGE-L'] for v in sarvam_rouge_scores.values()]) / len(sarvam_rouge_scores)\n",
    "print(f\"\\nSarvam's overall average ROUGE-1 F1: {avg_rouge1_all:.4f}\")\n",
    "print(f\"Sarvam's overall average ROUGE-2 F1: {avg_rouge2_all:.4f}\")\n",
    "print(f\"Sarvam's overall average ROUGE-L F1: {avg_rougeL_all:.4f}\")"
   ]
  },
  {
   "cell_type": "code",
   "execution_count": 62,
   "id": "a48ab1bf",
   "metadata": {},
   "outputs": [
    {
     "data": {
      "image/png": "[encoded data removed]",
      "text/plain": [
       "<Figure size 1200x400 with 3 Axes>"
      ]
     },
     "metadata": {},
     "output_type": "display_data"
    }
   ],
   "source": [
    "import numpy as np\n",
    "import matplotlib.pyplot as plt\n",
    "\n",
    "# Prepare data for plotting\n",
    "models = ['Llama', 'Sarvam', 'GPT-4o']\n",
    "languages = ['Malayalam']\n",
    "\n",
    "# Only Malayalam scores\n",
    "bleu_scores = [\n",
    "    [llama_bleu_scores['Malayalam']],\n",
    "    [sarvam_bleu_scores['Malayalam']],\n",
    "    [gpt4o_bleu_scores['Malayalam']]\n",
    "]\n",
    "\n",
    "meteor_scores = [\n",
    "    [llama_meteor_scores['Malayalam']],\n",
    "    [sarvam_meteor_scores['Malayalam']],\n",
    "    [gpt4o_meteor_scores['Malayalam']]\n",
    "]\n",
    "\n",
    "rouge1_scores = [\n",
    "    [llama_rouge_scores['Malayalam']['ROUGE-1']],\n",
    "    [sarvam_rouge_scores['Malayalam']['ROUGE-1']],\n",
    "    [gpt4o_rouge_scores['Malayalam']['ROUGE-1']]\n",
    "]\n",
    "\n",
    "x = np.arange(len(languages))\n",
    "width = 0.22\n",
    "\n",
    "fig, axs = plt.subplots(1, 3, figsize=(12, 4), sharey=False)\n",
    "\n",
    "# BLEU\n",
    "for i, model in enumerate(models):\n",
    "    axs[0].bar(x + i*width, bleu_scores[i], width, label=model)\n",
    "axs[0].set_title('BLEU Score')\n",
    "axs[0].set_xticks(x + width)\n",
    "axs[0].set_xticklabels(languages)\n",
    "axs[0].legend()\n",
    "axs[0].set_ylabel('Score')\n",
    "\n",
    "# METEOR\n",
    "for i, model in enumerate(models):\n",
    "    axs[1].bar(x + i*width, meteor_scores[i], width, label=model)\n",
    "axs[1].set_title('METEOR Score')\n",
    "axs[1].set_xticks(x + width)\n",
    "axs[1].set_xticklabels(languages)\n",
    "axs[1].legend()\n",
    "axs[1].set_ylabel('Score')\n",
    "\n",
    "# ROUGE-1 F1\n",
    "for i, model in enumerate(models):\n",
    "    axs[2].bar(x + i*width, rouge1_scores[i], width, label=model)\n",
    "axs[2].set_title('ROUGE-1 F1 Score')\n",
    "axs[2].set_xticks(x + width)\n",
    "axs[2].set_xticklabels(languages)\n",
    "axs[2].legend()\n",
    "axs[2].set_ylabel('Score')\n",
    "\n",
    "plt.tight_layout()\n",
    "plt.show()\n"
   ]
  },
  {
   "cell_type": "code",
   "execution_count": 63,
   "id": "932dcfee",
   "metadata": {
    "vscode": {
     "languageId": "shellscript"
    }
   },
   "outputs": [
    {
     "name": "stdout",
     "output_type": "stream",
     "text": [
      " Language Sarvam BLEU Llama BLEU GPT-4o BLEU Sarvam METEOR Llama METEOR GPT-4o METEOR Sarvam ROUGE-1 Llama ROUGE-1 GPT-4o ROUGE-1\n",
      "Malayalam      0.0442     0.0192      0.0391        0.1827       0.0630        0.1597         0.0000        0.0000         0.0000\n"
     ]
    },
    {
     "name": "stderr",
     "output_type": "stream",
     "text": [
      "/var/folders/8w/vvk6gdlj70zgwp6z82ndv3lh0000gn/T/ipykernel_24033/2660633029.py:20: FutureWarning: DataFrame.applymap has been deprecated. Use DataFrame.map instead.\n",
      "  df[float_cols] = df[float_cols].applymap(lambda x: f\"{x:.4f}\")\n"
     ]
    }
   ],
   "source": [
    "import pandas as pd\n",
    "\n",
    "# Prepare data for the table (Malayalam only)\n",
    "data = {\n",
    "    \"Language\": [\"Malayalam\"],\n",
    "    \"Sarvam BLEU\": [sarvam_bleu_scores['Malayalam']],\n",
    "    \"Llama BLEU\": [llama_bleu_scores['Malayalam']],\n",
    "    \"GPT-4o BLEU\": [gpt4o_bleu_scores['Malayalam']],\n",
    "    \"Sarvam METEOR\": [sarvam_meteor_scores['Malayalam']],\n",
    "    \"Llama METEOR\": [llama_meteor_scores['Malayalam']],\n",
    "    \"GPT-4o METEOR\": [gpt4o_meteor_scores['Malayalam']],\n",
    "    \"Sarvam ROUGE-1\": [sarvam_rouge_scores['Malayalam']['ROUGE-1']],\n",
    "    \"Llama ROUGE-1\": [llama_rouge_scores['Malayalam']['ROUGE-1']],\n",
    "    \"GPT-4o ROUGE-1\": [gpt4o_rouge_scores['Malayalam']['ROUGE-1']]\n",
    "}\n",
    "\n",
    "df = pd.DataFrame(data)\n",
    "# Format float columns for neatness\n",
    "float_cols = df.columns.drop(\"Language\")\n",
    "df[float_cols] = df[float_cols].applymap(lambda x: f\"{x:.4f}\")\n",
    "print(df.to_string(index=False))"
   ]
  }
 ],
 "metadata": {
  "kernelspec": {
   "display_name": "myenv",
   "language": "python",
   "name": "python3"
  },
  "language_info": {
   "codemirror_mode": {
    "name": "ipython",
    "version": 3
   },
   "file_extension": ".py",
   "mimetype": "text/x-python",
   "name": "python",
   "nbconvert_exporter": "python",
   "pygments_lexer": "ipython3",
   "version": "3.13.5"
  }
 },
 "nbformat": 4,
 "nbformat_minor": 5
}
